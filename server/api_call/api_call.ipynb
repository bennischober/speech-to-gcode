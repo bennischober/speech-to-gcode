{
 "cells": [
  {
   "cell_type": "code",
   "execution_count": null,
   "metadata": {},
   "outputs": [],
   "source": [
    "import os\n",
    "import requests\n",
    "import zipfile\n",
    "from PIL import Image\n",
    "from io import BytesIO\n",
    "\n",
    "# Define the API endpoint\n",
    "url = \"http://localhost:5001/api_multi\"\n",
    "\n",
    "# Define the prompt data\n",
    "data = {\n",
    "    \"prompt\": \"Eine Maus\",\n",
    "    \"num_images_per_prompt\": 10\n",
    "}\n",
    "\n",
    "# Send the API request\n",
    "response = requests.post(url, json=data)\n",
    "\n",
    "# Check the response status code\n",
    "if response.status_code == 200:\n",
    "    # Extract the images from the ZIP file\n",
    "    zip_data = BytesIO(response.content)\n",
    "    with zipfile.ZipFile(zip_data, 'r') as zip_file:\n",
    "        for filename in zip_file.namelist():\n",
    "            # Open each image in the ZIP file\n",
    "            with zip_file.open(filename) as image_file:\n",
    "                # Create a PIL Image object from the image data\n",
    "                image_data = BytesIO(image_file.read())\n",
    "                image = Image.open(image_data)\n",
    "\n",
    "                # Save the image to a file\n",
    "                image_path = os.path.join(\"generated_images\", filename)\n",
    "                image.save(image_path)\n",
    "else:\n",
    "    print(\"Error:\", response.status_code, response.text)"
   ]
  },
  {
   "cell_type": "code",
   "execution_count": null,
   "metadata": {},
   "outputs": [],
   "source": [
    "import os\n",
    "import requests\n",
    "\n",
    "# Define the API endpoint\n",
    "url = \"http://localhost:5101/api/stt\"\n",
    "\n",
    "# read wav file as bytes\n",
    "# get absolute path of this file because of jupyter notebook\n",
    "abs_path = os.path.abspath(os.getcwd())\n",
    "file_path = os.path.join(abs_path, \"test.wav\")\n",
    "with open(file_path, \"rb\") as f:\n",
    "    data = f.read()\n",
    "\n",
    "    # Send the API request\n",
    "    response = requests.post(url, data=data)\n",
    "\n",
    "    # Check the response status code\n",
    "    if response.status_code == 200:\n",
    "        print(response.text)\n",
    "    else:\n",
    "        print(\"Error:\", response.status_code, response.text)\n"
   ]
  }
 ],
 "metadata": {
  "language_info": {
   "name": "python"
  },
  "orig_nbformat": 4
 },
 "nbformat": 4,
 "nbformat_minor": 2
}
