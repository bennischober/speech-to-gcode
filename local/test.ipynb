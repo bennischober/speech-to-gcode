{
 "cells": [
  {
   "cell_type": "code",
   "execution_count": 4,
   "metadata": {},
   "outputs": [],
   "source": [
    "import cv2\n",
    "import base64\n",
    "import numpy as np\n"
   ]
  },
  {
   "cell_type": "code",
   "execution_count": 2,
   "metadata": {},
   "outputs": [
    {
     "name": "stdout",
     "output_type": "stream",
     "text": [
      "!!!!! 4\n"
     ]
    }
   ],
   "source": [
    "preloaded_images = None\n",
    "with open(\"components/stable_diffusion/preloaded_images.txt\", \"r\") as file:\n",
    "    preloaded_images = eval(file.read())"
   ]
  },
  {
   "cell_type": "code",
   "execution_count": 5,
   "metadata": {},
   "outputs": [],
   "source": [
    "selected_diff_image = preloaded_images[0]"
   ]
  },
  {
   "cell_type": "code",
   "execution_count": 14,
   "metadata": {},
   "outputs": [
    {
     "ename": "error",
     "evalue": "OpenCV(4.7.0) :-1: error: (-5:Bad argument) in function 'GaussianBlur'\n> Overload resolution failed:\n>  - GaussianBlur() missing required argument 'sigmaX' (pos 3)\n>  - GaussianBlur() missing required argument 'sigmaX' (pos 3)\n",
     "output_type": "error",
     "traceback": [
      "\u001b[0;31m---------------------------------------------------------------------------\u001b[0m",
      "\u001b[0;31merror\u001b[0m                                     Traceback (most recent call last)",
      "Cell \u001b[0;32mIn[14], line 17\u001b[0m\n\u001b[1;32m     14\u001b[0m gray_base64 \u001b[39m=\u001b[39m base64\u001b[39m.\u001b[39mb64encode(gray_encoded)\u001b[39m.\u001b[39mdecode(\u001b[39m'\u001b[39m\u001b[39mutf-8\u001b[39m\u001b[39m'\u001b[39m)\n\u001b[1;32m     16\u001b[0m \u001b[39m# Rauschen eliminieren\u001b[39;00m\n\u001b[0;32m---> 17\u001b[0m blurred \u001b[39m=\u001b[39m  cv2\u001b[39m.\u001b[39;49mGaussianBlur(gray, (\u001b[39m9\u001b[39;49m, \u001b[39m9\u001b[39;49m))\n\u001b[1;32m     18\u001b[0m _, blurred_encoded \u001b[39m=\u001b[39m cv2\u001b[39m.\u001b[39mimencode(\u001b[39m'\u001b[39m\u001b[39m.png\u001b[39m\u001b[39m'\u001b[39m, blurred)\n\u001b[1;32m     19\u001b[0m blurred_base64 \u001b[39m=\u001b[39m base64\u001b[39m.\u001b[39mb64encode(blurred_encoded)\u001b[39m.\u001b[39mdecode(\u001b[39m'\u001b[39m\u001b[39mutf-8\u001b[39m\u001b[39m'\u001b[39m)\n",
      "\u001b[0;31merror\u001b[0m: OpenCV(4.7.0) :-1: error: (-5:Bad argument) in function 'GaussianBlur'\n> Overload resolution failed:\n>  - GaussianBlur() missing required argument 'sigmaX' (pos 3)\n>  - GaussianBlur() missing required argument 'sigmaX' (pos 3)\n"
     ]
    }
   ],
   "source": [
    "# Convert image\n",
    "decoded_image = base64.b64decode(selected_diff_image.split(',')[1])\n",
    "image_array = np.frombuffer(decoded_image, dtype=np.uint8)\n",
    "origial = cv2.imdecode(image_array, cv2.IMREAD_COLOR)\n",
    "\n",
    "# origial = cv2.imread(\"components/image_preprocessing/elefant.jpeg\")\n",
    "_, origial_encoded = cv2.imencode('.png', origial)\n",
    "original_base64 = base64.b64encode(origial_encoded).decode('utf-8')\n",
    "\n",
    "\n",
    "# Graustufenbild\n",
    "gray = cv2.cvtColor(origial, cv2.COLOR_BGR2GRAY)\n",
    "_, gray_encoded = cv2.imencode('.png', gray)\n",
    "gray_base64 = base64.b64encode(gray_encoded).decode('utf-8')\n",
    "\n",
    "# Rauschen eliminieren\n",
    "blurred =  cv2.GaussianBlur(gray, (9, 9), 0)\n",
    "_, blurred_encoded = cv2.imencode('.png', blurred)\n",
    "blurred_base64 = base64.b64encode(blurred_encoded).decode('utf-8')"
   ]
  },
  {
   "cell_type": "code",
   "execution_count": 13,
   "metadata": {},
   "outputs": [
    {
     "data": {
      "text/plain": [
       "(512, 512)"
      ]
     },
     "execution_count": 13,
     "metadata": {},
     "output_type": "execute_result"
    }
   ],
   "source": [
    "blurred.shape"
   ]
  },
  {
   "cell_type": "code",
   "execution_count": null,
   "metadata": {},
   "outputs": [],
   "source": []
  }
 ],
 "metadata": {
  "kernelspec": {
   "display_name": "recsys",
   "language": "python",
   "name": "python3"
  },
  "language_info": {
   "codemirror_mode": {
    "name": "ipython",
    "version": 3
   },
   "file_extension": ".py",
   "mimetype": "text/x-python",
   "name": "python",
   "nbconvert_exporter": "python",
   "pygments_lexer": "ipython3",
   "version": "3.11.0"
  },
  "orig_nbformat": 4
 },
 "nbformat": 4,
 "nbformat_minor": 2
}
