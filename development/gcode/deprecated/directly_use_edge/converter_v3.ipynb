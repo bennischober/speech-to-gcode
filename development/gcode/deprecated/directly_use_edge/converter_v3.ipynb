{
 "cells": [
  {
   "cell_type": "code",
   "execution_count": 1,
   "metadata": {},
   "outputs": [],
   "source": [
    "import cv2\n",
    "import base64\n",
    "import numpy as np\n",
    "import matplotlib.pyplot as plt"
   ]
  },
  {
   "attachments": {},
   "cell_type": "markdown",
   "metadata": {},
   "source": [
    "## Image Preprocessing\n",
    "---"
   ]
  },
  {
   "cell_type": "code",
   "execution_count": 9,
   "metadata": {},
   "outputs": [],
   "source": [
    "preloaded_images = None\n",
    "with open(\"preloaded_images.txt\", \"r\") as file:\n",
    "    preloaded_images = eval(file.read())\n",
    "selected_diff_image = preloaded_images[2]\n",
    "\n",
    "# Convert image\n",
    "decoded_image = base64.b64decode(selected_diff_image.split(',')[1])\n",
    "image_array = np.frombuffer(decoded_image, dtype=np.uint8)\n",
    "origial = cv2.imdecode(image_array, cv2.IMREAD_COLOR)\n",
    "\n",
    "cropped = origial[100:120, 100:120]\n",
    "\n",
    "\n",
    "# Graustufenbild\n",
    "gray = cv2.cvtColor(cropped, cv2.COLOR_BGR2GRAY)\n",
    "\n",
    "# Rauschen eliminieren\n",
    "blurred = cv2.GaussianBlur(gray, (5, 5), 0)\n",
    "\n",
    "# Canny-Kanten-Detektor\n",
    "edges = cv2.Canny(blurred, 100, 200)\n",
    "\n",
    "# Kantenbreite (4 Pixel)\n",
    "kernel = cv2.getStructuringElement(cv2.MORPH_RECT, (4, 4))\n",
    "dilated = cv2.dilate(edges, kernel)"
   ]
  },
  {
   "cell_type": "code",
   "execution_count": 13,
   "metadata": {},
   "outputs": [
    {
     "name": "stdout",
     "output_type": "stream",
     "text": [
      "[  0   0   0   0   0   0 255 255 255   0   0   0   0   0   0   0   0   0\n",
      "   0   0]\n"
     ]
    }
   ],
   "source": [
    "print(edges[10])"
   ]
  },
  {
   "cell_type": "code",
   "execution_count": 14,
   "metadata": {},
   "outputs": [
    {
     "data": {
      "image/png": "[encoded data removed]",
      "text/plain": [
       "<Figure size 640x480 with 1 Axes>"
      ]
     },
     "metadata": {},
     "output_type": "display_data"
    }
   ],
   "source": [
    "plt.imshow(edges)\n",
    "plt.axis('off')  # Remove the axis labels\n",
    "plt.show()"
   ]
  },
  {
   "cell_type": "code",
   "execution_count": 61,
   "metadata": {},
   "outputs": [],
   "source": [
    "path = \"gcode.tap\"\n",
    "\n",
    "\n",
    "z_safe_hight = 10.0\n",
    "z_working_hight = 0.5\n",
    "z_depth = 3\n",
    "z_feed = 500\n",
    "xy_feed = 1000\n",
    "spindle_speed = 24000\n",
    "def generate_gcode(edges):\n",
    "    edge_pixels = np.argwhere(edges > 0)\n",
    "\n",
    "    scale = 0.1\n",
    "\n",
    "    gcode = []\n",
    "    gcode.append('G21\\n')\n",
    "    gcode.append('G90\\n')\n",
    "    gcode.append('G0 Z10\\n')\n",
    "\n",
    "    for pixel in edge_pixels:\n",
    "        x = pixel[1] * scale\n",
    "        y = (img.shape[0] - pixel[0]) * scale\n",
    "        gcode.append('G0 X{:.3f} Y{:.3f}\\n'.format(x,y))\n",
    "        gcode.append('G1 Z-0.5 F100')\n",
    "\n",
    "    gcode.append('G0 Z10\\n')\n",
    "    gcode.append('M2')\n",
    "\n",
    "\n",
    "    # return gcode_data\n",
    "    # Save the G-code to a file\n",
    "    with open(path, \"w\") as f:\n",
    "        f.writelines(gcode)\n",
    "\n",
    "def get_contours(dilated, contour_minArcLength=0):\n",
    "    contours, _ = cv2.findContours(dilated, cv2.RETR_LIST, cv2.CHAIN_APPROX_NONE)\n",
    "\n",
    "    final_contours = []\n",
    "    for c in contours:\n",
    "        areaContour = cv2.arcLength(c, True)\n",
    "        area_min = contour_minArcLength\n",
    "        area_max = 1000000000\n",
    "        if areaContour < area_min or area_max < areaContour:\n",
    "            continue\n",
    "        else:\n",
    "            final_contours.append(c)\n",
    "    return final_contours\n",
    "\n",
    "def image_to_gcode(blurred):\n",
    "    resized_image = cv2.resize(dilated, (dilated.shape[1] // 4, dilated.shape[0] // 4))\n",
    "\n",
    "    edges = cv2.Canny(blurred, 100, 200)\n",
    "    return generate_gcode(edges)"
   ]
  },
  {
   "cell_type": "code",
   "execution_count": 62,
   "metadata": {},
   "outputs": [],
   "source": [
    "image_to_gcode(blurred)"
   ]
  },
  {
   "cell_type": "code",
   "execution_count": null,
   "metadata": {},
   "outputs": [],
   "source": []
  }
 ],
 "metadata": {
  "kernelspec": {
   "display_name": "recsys",
   "language": "python",
   "name": "python3"
  },
  "language_info": {
   "codemirror_mode": {
    "name": "ipython",
    "version": 3
   },
   "file_extension": ".py",
   "mimetype": "text/x-python",
   "name": "python",
   "nbconvert_exporter": "python",
   "pygments_lexer": "ipython3",
   "version": "3.11.0"
  },
  "orig_nbformat": 4
 },
 "nbformat": 4,
 "nbformat_minor": 2
}
