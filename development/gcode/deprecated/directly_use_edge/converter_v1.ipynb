{
 "cells": [
  {
   "cell_type": "code",
   "execution_count": 36,
   "metadata": {},
   "outputs": [],
   "source": [
    "import cv2\n",
    "import base64\n",
    "import numpy as np\n",
    "import matplotlib.pyplot as plt"
   ]
  },
  {
   "attachments": {},
   "cell_type": "markdown",
   "metadata": {},
   "source": [
    "## Image Preprocessing\n",
    "---\n",
    "TODO: Delte the duplicates in the beginning:\n",
    "Therefore Identify the Beginning of the Line"
   ]
  },
  {
   "cell_type": "code",
   "execution_count": 60,
   "metadata": {},
   "outputs": [],
   "source": [
    "preloaded_images = None\n",
    "with open(\"preloaded_images.txt\", \"r\") as file:\n",
    "    preloaded_images = eval(file.read())\n",
    "selected_diff_image = preloaded_images[2]\n",
    "\n",
    "# Convert image\n",
    "decoded_image = base64.b64decode(selected_diff_image.split(',')[1])\n",
    "image_array = np.frombuffer(decoded_image, dtype=np.uint8)\n",
    "origial = cv2.imdecode(image_array, cv2.IMREAD_COLOR)\n",
    "\n",
    "cropped = origial[100:110, 100:110]\n",
    "\n",
    "edges = cv2.Canny(cropped, 100, 200)"
   ]
  },
  {
   "cell_type": "code",
   "execution_count": 61,
   "metadata": {},
   "outputs": [],
   "source": [
    "# Erstelle einen leeren Hintergrund\n",
    "background = np.zeros_like(edges)\n",
    "\n",
    "# Finde die Kantenpixel im Originalbild\n",
    "edge_pixels = np.where(edges != 0)\n",
    "\n",
    "# Setze die Kanten im Hintergrund auf 255\n",
    "background[edge_pixels] = 255"
   ]
  },
  {
   "cell_type": "code",
   "execution_count": 62,
   "metadata": {},
   "outputs": [],
   "source": [
    "edges2 = np.array([[  0,   0,   0,   0,   0,   0,   0, 255,   0,   0],\n",
    "       [  0,   0,   0,   0,   0,   0, 255,   0,   0,   0],\n",
    "       [  0,   0,   0,   0,   0, 255,   0,   0,   0,   0],\n",
    "       [  0,   0,   0, 255, 255,   0,   0,   0,   0,   0],\n",
    "       [  0,   0,   0, 255,   0,   0,   0,   0,   0,   0],\n",
    "       [  0,   0, 255,   0,   0,   0,   0,   0,   0,   0],\n",
    "       [  0, 255,   0,   0,   0,   0,   0,   0,   0,   0],\n",
    "       [  0,   0,   0,   0,   0,   0,   0,   0,   0,   0],\n",
    "       [  0,   0,   0,   0,   0,   0,   0,   0,   0,   0],\n",
    "       [  0,   0,   0,   0,   0,   0,   0,   0,   0,   0]])\n",
    "\n",
    "# edges2 = cv2.cvtColor(edges2.astype(np.uint8), cv2.COLOR_GRAY2CV_8UC1)"
   ]
  },
  {
   "cell_type": "code",
   "execution_count": 63,
   "metadata": {},
   "outputs": [],
   "source": [
    "contours, _ = cv2.findContours(edges2.astype(np.uint8), cv2.RETR_LIST, cv2.CHAIN_APPROX_SIMPLE)\n",
    "\n",
    "# Konturen in Kantenbild einzeichnen\n",
    "# contour_image = np.copy(edges2)  # Kopie des Kantenbildes\n",
    "\n",
    "# # Konturen mit markanter Farbe einzeichnen\n",
    "# contour_image = cv2.drawContours(contour_image, contours, -1, 255, 1)"
   ]
  },
  {
   "cell_type": "code",
   "execution_count": 64,
   "metadata": {},
   "outputs": [
    {
     "name": "stdout",
     "output_type": "stream",
     "text": [
      "[[7, 0], [4, 3], [3, 3], [3, 4], [1, 6]]\n"
     ]
    }
   ],
   "source": [
    "for contour in contours:\n",
    "    contour_list = []\n",
    "    for points in contour:\n",
    "        contour_list.append([points[0][0], points[0][1]])\n",
    "    \n",
    "    print(contour_list)"
   ]
  },
  {
   "cell_type": "code",
   "execution_count": 65,
   "metadata": {},
   "outputs": [],
   "source": [
    "kernel = cv2.getStructuringElement(cv2.MORPH_RECT, (3, 3))\n",
    "dilated = cv2.dilate(edges, kernel)\n",
    "morph = cv2.morphologyEx(dilated, cv2.MORPH_OPEN, kernel)"
   ]
  },
  {
   "cell_type": "code",
   "execution_count": 66,
   "metadata": {},
   "outputs": [
    {
     "data": {
      "image/png": "[encoded data removed]",
      "text/plain": [
       "<Figure size 2000x1000 with 2 Axes>"
      ]
     },
     "metadata": {},
     "output_type": "display_data"
    }
   ],
   "source": [
    "fig, axes = plt.subplots(1, 2, figsize=(20, 10))\n",
    "axes[0].imshow(edges)\n",
    "axes[0].axis('off')\n",
    "axes[1].imshow(edges2)\n",
    "axes[1].axis('off')\n",
    "plt.show()"
   ]
  },
  {
   "cell_type": "code",
   "execution_count": 67,
   "metadata": {},
   "outputs": [],
   "source": [
    "path = \"gcode.tap\"\n",
    "\n",
    "\n",
    "z_safe_hight = 10.0\n",
    "z_working_hight = 0.5\n",
    "z_depth = 3\n",
    "z_feed = 500\n",
    "xy_feed = 1000\n",
    "spindle_speed = 24000\n",
    "def generate_gcode(contours):\n",
    "    gcode_data = []\n",
    "\n",
    "    # set contour to (0|0)\n",
    "    minX = 1000\n",
    "    maxX = 0\n",
    "    minY = 1000\n",
    "    maxY = 0\n",
    "\n",
    "    for count, c in enumerate(contours):\n",
    "        tmp_minX = np.min(c[:, :, 0])\n",
    "        tmp_minY = np.min(c[:, :, 1])\n",
    "        tmp_maxX = np.max(c[:, :, 0])\n",
    "        tmp_maxY = np.max(c[:, :, 1])\n",
    "        if tmp_minX < minX:\n",
    "            minX = tmp_minX\n",
    "        if tmp_minY < minY:\n",
    "            minY = tmp_minY\n",
    "        if tmp_maxX > maxX:\n",
    "            maxX = tmp_maxX\n",
    "        if tmp_maxY > maxY:\n",
    "            maxY = tmp_maxY\n",
    "\n",
    "    contours_lists = []\n",
    "    for contour in contours:\n",
    "        contour_list = []\n",
    "        for points in contour:\n",
    "            contour_list.append([points[0][0] - minX, points[0][1] - minY])\n",
    "\n",
    "        contours_lists.append(contour_list)\n",
    "\n",
    "    # write g-code\n",
    "    gcode_start = [f\"M03 S{spindle_speed}\",\n",
    "                   f\"G00 Z{z_safe_hight}\"]\n",
    "    gcode_end = [f\"G00 Z{z_safe_hight}\", \"G00 X0 Y0\", \"M05\", \"M30\"]\n",
    "\n",
    "    gcode_data = []\n",
    "\n",
    "    for elem in gcode_start:\n",
    "        gcode_data.append(f\"{elem}\\n\")\n",
    "\n",
    "    for contour in contours_lists:\n",
    "\n",
    "        tmp_contour_len = len(contour)\n",
    "        gcode_data.append(f\"{tmp_contour_len}#####################################\\n\")\n",
    "\n",
    "        gcode_data.append(f\"G00 X{contour[0][0]} Y{contour[0][1]}\\n\")\n",
    "        gcode_data.append(f\"G00 Z0\\n\")\n",
    "        gcode_data.append(f\"G01 Z-{z_depth} F{z_feed}\\n\")\n",
    "\n",
    "        if tmp_contour_len == 2:\n",
    "            gcode_data.append(\n",
    "                f\"G01 X{contour[1][0]} Y{contour[1][1]} F{xy_feed}\\n\")\n",
    "\n",
    "        gcode_data.append(f\"G00 Z{z_working_hight}\\n\")\n",
    "\n",
    "        if tmp_contour_len > 2:\n",
    "            for i in range(tmp_contour_len-1):\n",
    "                if i == 0:\n",
    "                    gcode_data.append(\n",
    "                        f\"G01 X{contour[i+1][0]} Y{contour[i+1][1]} F{xy_feed}\\n\")\n",
    "                else:\n",
    "                    gcode_data.append(\n",
    "                        f\"G01 X{contour[i+1][0]} Y{contour[i+1][1]}\\n\")\n",
    "            gcode_data.append(f\"G00 Z{z_working_hight}\\n\")\n",
    "\n",
    "    for elem in gcode_end:\n",
    "        gcode_data.append(f\"{elem}\\n\")\n",
    "\n",
    "    # return gcode_data\n",
    "    # Save the G-code to a file\n",
    "    with open(path, \"w\") as f:\n",
    "        f.writelines(gcode_data)\n",
    "\n",
    "def get_contours(dilated, contour_minArcLength=0):\n",
    "    contours, _ = cv2.findContours(dilated, cv2.RETR_LIST, cv2.CHAIN_APPROX_NONE)\n",
    "\n",
    "    final_contours = []\n",
    "    for c in contours:\n",
    "        areaContour = cv2.arcLength(c, True)\n",
    "        area_min = contour_minArcLength\n",
    "        area_max = 1000000000\n",
    "        if areaContour < area_min or area_max < areaContour:\n",
    "            continue\n",
    "        else:\n",
    "            final_contours.append(c)\n",
    "    return final_contours\n",
    "\n",
    "def image_to_gcode(img):\n",
    "    # resized_image = cv2.resize(img, (img.shape[1] // 4, img.shape[0] // 4))\n",
    "    resized_image = img\n",
    "    return generate_gcode(get_contours(resized_image))"
   ]
  },
  {
   "cell_type": "code",
   "execution_count": 69,
   "metadata": {},
   "outputs": [],
   "source": [
    "image_to_gcode(edges2.astype(np.uint8))"
   ]
  },
  {
   "cell_type": "code",
   "execution_count": null,
   "metadata": {},
   "outputs": [],
   "source": []
  },
  {
   "cell_type": "code",
   "execution_count": null,
   "metadata": {},
   "outputs": [],
   "source": []
  }
 ],
 "metadata": {
  "kernelspec": {
   "display_name": "recsys",
   "language": "python",
   "name": "python3"
  },
  "language_info": {
   "codemirror_mode": {
    "name": "ipython",
    "version": 3
   },
   "file_extension": ".py",
   "mimetype": "text/x-python",
   "name": "python",
   "nbconvert_exporter": "python",
   "pygments_lexer": "ipython3",
   "version": "3.11.0"
  },
  "orig_nbformat": 4
 },
 "nbformat": 4,
 "nbformat_minor": 2
}
