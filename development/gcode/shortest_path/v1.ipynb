{
 "cells": [
  {
   "cell_type": "code",
   "execution_count": 1,
   "metadata": {},
   "outputs": [],
   "source": [
    "import cv2\n",
    "import base64\n",
    "import numpy as np\n",
    "import matplotlib.pyplot as plt"
   ]
  },
  {
   "attachments": {},
   "cell_type": "markdown",
   "metadata": {},
   "source": [
    "## 1. Image Preprocessing\n",
    "---"
   ]
  },
  {
   "cell_type": "code",
   "execution_count": 2,
   "metadata": {},
   "outputs": [],
   "source": [
    "# Image Preprocessing Params\n",
    "blurr_kernel_size = 5\n",
    "risize_factor = 2\n",
    "\n",
    "# Line Approximation Params\n",
    "fixed_epsilon = 1.0\n",
    "\n",
    "use_dynamic_epsilon = False\n",
    "epsilon_factor = 0.02\n",
    "max_epsilon = 2.5\n",
    "min_epsilon = 1.5\n",
    "\n",
    "# GCODE Params\n",
    "z_safe_hight = 10.0\n",
    "z_working_hight = 0.5\n",
    "z_depth = 3\n",
    "z_feed = 500\n",
    "xy_feed = 1000\n",
    "spindle_speed = 24000\n",
    "# Maximaler Vorschub ist ca. 3000 (immer bei G0) (3000mm pro Minute)"
   ]
  },
  {
   "cell_type": "code",
   "execution_count": 3,
   "metadata": {},
   "outputs": [],
   "source": [
    "# Custom Image\n",
    "edge_image_custom = np.array([\n",
    "       [  0,   0,   0,   0,   0,   0,   0, 255,   0,   0],\n",
    "       [  0,   0,   0,   0,   0,   0, 255,   0,   0,   0],\n",
    "       [  0,   0,   0, 255,   0, 255,   0,   0,   0,   0],\n",
    "       [  0,   0,   0, 255,   0,   0,   0,   0,   0,   0],\n",
    "       [  0,   0,   0, 255,   0,   0,   0,   0,   0, 255],\n",
    "       [  0,   0,   0, 255,   0,   0,   0,   0, 255,   0],\n",
    "       [  0,   0,   0,   0,   0,   0,   0, 255,   0,   0],\n",
    "       [  0,   0,   0,   0,   0,   0, 255, 255, 255,   0],\n",
    "       [  0,   0,   0,   0,   0,   0,   0,   0,   0, 255],\n",
    "       [  0,   0,   0,   0,   0,   0,   0,   0,   0, 255]]).astype(np.uint8)\n",
    "\n",
    "# Preloaded Image\n",
    "preloaded_images = None\n",
    "with open(\"../preloaded_images.txt\", \"r\") as file:\n",
    "    preloaded_images = eval(file.read())\n",
    "selected_diff_image = preloaded_images[2]\n",
    "\n",
    "# Convert image\n",
    "decoded_image = base64.b64decode(selected_diff_image.split(',')[1])\n",
    "image_array = np.frombuffer(decoded_image, dtype=np.uint8)\n",
    "origial = cv2.imdecode(image_array, cv2.IMREAD_COLOR)\n",
    "gray = cv2.cvtColor(origial, cv2.COLOR_BGR2GRAY)\n",
    "blurred = cv2.GaussianBlur(gray, (blurr_kernel_size, blurr_kernel_size), 0)\n",
    "edges = cv2.Canny(blurred, 100, 200)\n",
    "edge_image_preloaded = cv2.resize(edges, (edges.shape[1] // risize_factor, edges.shape[0] // risize_factor))"
   ]
  },
  {
   "attachments": {},
   "cell_type": "markdown",
   "metadata": {},
   "source": [
    "## 1. Edge Approximation\n",
    "---"
   ]
  },
  {
   "cell_type": "code",
   "execution_count": 4,
   "metadata": {},
   "outputs": [],
   "source": [
    "def getEdgeApprox(edge_image):\n",
    "       contours, _ = cv2.findContours(edge_image, cv2.RETR_LIST, cv2.CHAIN_APPROX_SIMPLE)\n",
    "       edge_approximations = []\n",
    "\n",
    "       for i in range(len(contours)):\n",
    "              edge_approx = cv2.approxPolyDP(contours[i], fixed_epsilon, True)\n",
    "              \n",
    "              # remove last element if it is already in contour\n",
    "              if edge_approx[-1] in edge_approx[:len(edge_approx)-2]:\n",
    "                     edge_approx = edge_approx[:-1]\n",
    "              \n",
    "              edge_approximations.append(edge_approx)\n",
    "       \n",
    "       return edge_approximations\n",
    "\n",
    "\n",
    "def plotEdgeApprox(edge_image, edge_approximations, markersize):\n",
    "       # Plot des Edge-Bildes\n",
    "       plt.imshow(edge_image, cmap='gray')\n",
    "       for edge_approx in edge_approximations:\n",
    "              x_approx = edge_approx[:, :, 0].flatten()\n",
    "              y_approx = edge_approx[:, :, 1].flatten()\n",
    "              plt.plot(x_approx, y_approx, color='blue')\n",
    "              plt.plot(x_approx, y_approx, 'ro', markersize=markersize)\n",
    "\n",
    "       plt.title('Edge Approximation')\n",
    "       plt.axis('scaled')\n",
    "       plt.show()"
   ]
  },
  {
   "cell_type": "code",
   "execution_count": 5,
   "metadata": {},
   "outputs": [],
   "source": [
    "# custom edges\n",
    "edge_approximations_custom = getEdgeApprox(edge_image_custom)\n",
    "# plotEdgeApprox(edge_image_custom, edge_approximations_custom, 5)\n",
    "\n",
    "edge_approximations_preloaded = getEdgeApprox(edge_image_preloaded)\n",
    "# plotEdgeApprox(edge_image_preloaded, edge_approximations_preloaded, 1.5)"
   ]
  },
  {
   "attachments": {},
   "cell_type": "markdown",
   "metadata": {},
   "source": [
    "## 2. Shortest Path\n",
    "---"
   ]
  },
  {
   "cell_type": "code",
   "execution_count": 6,
   "metadata": {},
   "outputs": [],
   "source": [
    "# Calculate the Distance between contours (to be minimized)\n",
    "def calculate_g0_distance(contours):\n",
    "    total_distance = 0\n",
    "    start_end_point = np.array([0, 0])\n",
    "    recent_contour_end = start_end_point\n",
    "\n",
    "    for contour in contours:\n",
    "        contour_points = contour.squeeze()\n",
    "        start = contour_points[0] # set startPoint of Contour\n",
    "        total_distance += np.linalg.norm(start - recent_contour_end)  # Calc euklidian dinstance\n",
    "        recent_contour_end = contour_points[-1] # set endPoint of Contour\n",
    "\n",
    "    total_distance += np.linalg.norm(np.array([0, 0]) - recent_contour_end)\n",
    "\n",
    "    return total_distance"
   ]
  },
  {
   "attachments": {},
   "cell_type": "markdown",
   "metadata": {},
   "source": [
    "### 2.1 Heuristic Algorithm (Nearest Neighbor)\n",
    "---\n",
    "- Pros: You get relatively fast a good result\n",
    "- Cons: You will not find very good paths, because the algorithm uses only the current and the last contour"
   ]
  },
  {
   "cell_type": "code",
   "execution_count": 7,
   "metadata": {},
   "outputs": [],
   "source": [
    "from scipy.spatial.distance import cdist\n",
    "\n",
    "def getContourStartPoint(contours):\n",
    "    contour_start_points = []\n",
    "    contour_mapping = []\n",
    "    for i, contour in enumerate(contours):\n",
    "        contour_start_points.append(np.array(contour[0][0])) # start_point\n",
    "        contour_start_points.append(np.array(contour[-1][0])) # end_point\n",
    "\n",
    "        contour_mapping.append((i, False)) # start_point\n",
    "        contour_mapping.append((i, True)) # end_point\n",
    "\n",
    "    return np.array(contour_start_points), np.array(contour_mapping)\n",
    "\n",
    "start_point = np.array([0, 0])\n",
    "\n",
    "def optimize_contour_order(contours):\n",
    "    contour_start_points, contour_mapping = getContourStartPoint(contours) \n",
    "\n",
    "    new_order = np.array([])\n",
    "    contour_end_point = start_point # set the starting point as fist point\n",
    "\n",
    "    while True:\n",
    "        nn_index = np.argmin(cdist([contour_end_point], contour_start_points)) # get nearest neighbor index\n",
    "        nn_p_index = nn_index + 1 if nn_index % 2 == 0 else nn_index - 1 # get partner index\n",
    "        contour_end_point = contour_start_points[nn_p_index] # Set new contour end\n",
    "\n",
    "        new_order = np.append(new_order, contour_mapping[nn_index], axis=0) # Update Order\n",
    "\n",
    "        contour_start_points = np.delete(contour_start_points, [nn_index, nn_p_index], axis=0) # Remove used Kontours\n",
    "        contour_mapping = np.delete(contour_mapping, [nn_index, nn_p_index], axis=0) # Remove used Kontours\n",
    "\n",
    "        if len(contour_start_points) == 0:\n",
    "            break\n",
    "\n",
    "    # use new_order for contour and reverse some contours\n",
    "    return [contours[int(c_task[0])] if int(c_task[1]) == 0 else contours[int(c_task[0])][::-1] for c_task in new_order.reshape((-1, 2))] "
   ]
  },
  {
   "cell_type": "code",
   "execution_count": 8,
   "metadata": {},
   "outputs": [
    {
     "name": "stdout",
     "output_type": "stream",
     "text": [
      "original 75633.97699643619\n",
      "reordered 6801.493595273359\n",
      "calc time 0.18583202362060547\n"
     ]
    }
   ],
   "source": [
    "import time\n",
    "\n",
    "start_time = time.time()\n",
    "ordered_contours = optimize_contour_order(edge_approximations_preloaded)\n",
    "duration = time.time() - start_time\n",
    "\n",
    "# Plot Improvement\n",
    "print('original', calculate_g0_distance(edge_approximations_preloaded))\n",
    "print('reordered', calculate_g0_distance(ordered_contours))\n",
    "print('calc time', duration)"
   ]
  },
  {
   "attachments": {},
   "cell_type": "markdown",
   "metadata": {},
   "source": [
    "## 4. Generate GCODE\n",
    "---"
   ]
  },
  {
   "cell_type": "code",
   "execution_count": 9,
   "metadata": {},
   "outputs": [],
   "source": [
    "def generateGCODE(contours):\n",
    "    gcode_lines = []\n",
    "\n",
    "    # Drehgeschwindigkeit und initiale Höhe festlegen\n",
    "    gcode_lines += [\n",
    "        f'M03 S{spindle_speed}', \n",
    "        f'G00 Z{z_safe_hight}'\n",
    "    ]\n",
    "\n",
    "    # GCODE für die Kontouren\n",
    "    for i, edge_approx in enumerate(contours):\n",
    "        gcode_lines += [\n",
    "            f'######## Contour {i+1} ########',\n",
    "            f'G00 X{edge_approx[0][0][0]} Y{edge_approx[0][0][1]}',\n",
    "            f'G00 Z{z_working_hight}' if i == 0 else None,\n",
    "            'G00 Z0',\n",
    "            f'G01 Z-3 F{z_feed}',\n",
    "            f'G01 X{edge_approx[1][0][0]} Y{edge_approx[1][0][1]} F{xy_feed}' if len(edge_approx) > 1 else None,\n",
    "            *[f'G01 X{edge[0][0]} Y{edge[0][1]}' for edge in edge_approx[2:]],\n",
    "            f'G00 Z{z_working_hight}'\n",
    "        ]\n",
    "\n",
    "    # Fräßkopf zu initialer Position zurückbewegen\n",
    "    gcode_lines += [\n",
    "        '######## End ########',\n",
    "        f'G00 Z{z_safe_hight}',\n",
    "        'G00 X0 Y0',\n",
    "        'M05',\n",
    "        'M30'\n",
    "    ]\n",
    "\n",
    "    # None Elemente entfernen und GCODE erstellen\n",
    "    gcode = '\\n'.join([line for line in gcode_lines if line != None])\n",
    "\n",
    "    # Save the G-code to a file\n",
    "    with open('gcode.tap', \"w\") as f:\n",
    "        f.writelines(gcode)\n",
    "\n",
    "    # Print GCODE Stats\n",
    "    print('\\n'.join([\n",
    "        'Generated GCODE',\n",
    "        f'Amount of Contours: {len(contours)}',\n",
    "        f'Amount of Lines: {len(gcode_lines)}',\n",
    "    ]))"
   ]
  },
  {
   "cell_type": "code",
   "execution_count": 10,
   "metadata": {},
   "outputs": [
    {
     "name": "stdout",
     "output_type": "stream",
     "text": [
      "Generated GCODE\n",
      "Amount of Contours: 1426\n",
      "Amount of Lines: 12668\n"
     ]
    }
   ],
   "source": [
    "generateGCODE(ordered_contours)"
   ]
  },
  {
   "cell_type": "code",
   "execution_count": null,
   "metadata": {},
   "outputs": [],
   "source": []
  },
  {
   "cell_type": "code",
   "execution_count": null,
   "metadata": {},
   "outputs": [],
   "source": []
  },
  {
   "cell_type": "code",
   "execution_count": null,
   "metadata": {},
   "outputs": [],
   "source": []
  },
  {
   "cell_type": "code",
   "execution_count": null,
   "metadata": {},
   "outputs": [],
   "source": []
  },
  {
   "cell_type": "code",
   "execution_count": null,
   "metadata": {},
   "outputs": [],
   "source": []
  },
  {
   "cell_type": "code",
   "execution_count": 11,
   "metadata": {},
   "outputs": [],
   "source": [
    "def getContourStartPoint(contours):\n",
    "    contour_start_points = []\n",
    "    contour_mapping = []\n",
    "    for i, contour in enumerate(contours):\n",
    "        contour_start_points.append(np.array(contour[0][0])) # start_point\n",
    "        contour_start_points.append(np.array(contour[-1][0])) # end_point\n",
    "\n",
    "        contour_mapping.append((i, False)) # start_point\n",
    "        contour_mapping.append((i, True)) # end_point\n",
    "\n",
    "    return np.array(contour_start_points), np.array(contour_mapping)"
   ]
  },
  {
   "cell_type": "code",
   "execution_count": 12,
   "metadata": {},
   "outputs": [
    {
     "ename": "NameError",
     "evalue": "name 'contours' is not defined",
     "output_type": "error",
     "traceback": [
      "\u001b[0;31m---------------------------------------------------------------------------\u001b[0m",
      "\u001b[0;31mNameError\u001b[0m                                 Traceback (most recent call last)",
      "Cell \u001b[0;32mIn[12], line 1\u001b[0m\n\u001b[0;32m----> 1\u001b[0m contour_start_points, contour_mapping \u001b[39m=\u001b[39m getContourStartPoint(contours)\n",
      "\u001b[0;31mNameError\u001b[0m: name 'contours' is not defined"
     ]
    }
   ],
   "source": [
    "contour_start_points, contour_mapping = getContourStartPoint(contours)"
   ]
  },
  {
   "cell_type": "code",
   "execution_count": null,
   "metadata": {},
   "outputs": [
    {
     "data": {
      "text/plain": [
       "array([[1, 0],\n",
       "       [1, 1],\n",
       "       [2, 0],\n",
       "       [2, 1],\n",
       "       [3, 0],\n",
       "       [3, 1]])"
      ]
     },
     "execution_count": 138,
     "metadata": {},
     "output_type": "execute_result"
    }
   ],
   "source": [
    "contour_mapping"
   ]
  },
  {
   "cell_type": "code",
   "execution_count": null,
   "metadata": {},
   "outputs": [
    {
     "ename": "ValueError",
     "evalue": "all the input arrays must have same number of dimensions, but the array at index 0 has 2 dimension(s) and the array at index 1 has 1 dimension(s)",
     "output_type": "error",
     "traceback": [
      "\u001b[0;31m---------------------------------------------------------------------------\u001b[0m",
      "\u001b[0;31mValueError\u001b[0m                                Traceback (most recent call last)",
      "Cell \u001b[0;32mIn[137], line 2\u001b[0m\n\u001b[1;32m      1\u001b[0m a \u001b[39m=\u001b[39m np\u001b[39m.\u001b[39marray([[]])\n\u001b[0;32m----> 2\u001b[0m a \u001b[39m=\u001b[39m np\u001b[39m.\u001b[39;49mappend(a, contour_mapping[\u001b[39m0\u001b[39;49m], axis\u001b[39m=\u001b[39;49m\u001b[39m1\u001b[39;49m)\n\u001b[1;32m      3\u001b[0m a \u001b[39m=\u001b[39m np\u001b[39m.\u001b[39mappend(a, contour_mapping[\u001b[39m1\u001b[39m], axis\u001b[39m=\u001b[39m\u001b[39m1\u001b[39m)\n\u001b[1;32m      4\u001b[0m \u001b[39mprint\u001b[39m(a)\n",
      "File \u001b[0;32m<__array_function__ internals>:200\u001b[0m, in \u001b[0;36mappend\u001b[0;34m(*args, **kwargs)\u001b[0m\n",
      "File \u001b[0;32m/usr/local/Caskroom/mambaforge/base/envs/recsys/lib/python3.11/site-packages/numpy/lib/function_base.py:5499\u001b[0m, in \u001b[0;36mappend\u001b[0;34m(arr, values, axis)\u001b[0m\n\u001b[1;32m   5497\u001b[0m     values \u001b[39m=\u001b[39m ravel(values)\n\u001b[1;32m   5498\u001b[0m     axis \u001b[39m=\u001b[39m arr\u001b[39m.\u001b[39mndim\u001b[39m-\u001b[39m\u001b[39m1\u001b[39m\n\u001b[0;32m-> 5499\u001b[0m \u001b[39mreturn\u001b[39;00m concatenate((arr, values), axis\u001b[39m=\u001b[39;49maxis)\n",
      "File \u001b[0;32m<__array_function__ internals>:200\u001b[0m, in \u001b[0;36mconcatenate\u001b[0;34m(*args, **kwargs)\u001b[0m\n",
      "\u001b[0;31mValueError\u001b[0m: all the input arrays must have same number of dimensions, but the array at index 0 has 2 dimension(s) and the array at index 1 has 1 dimension(s)"
     ]
    }
   ],
   "source": [
    "a = np.array([[]])\n",
    "a = np.append(a, contour_mapping[0], axis=1)\n",
    "a = np.append(a, contour_mapping[1], axis=1)\n",
    "print(a)"
   ]
  },
  {
   "cell_type": "code",
   "execution_count": null,
   "metadata": {},
   "outputs": [],
   "source": []
  },
  {
   "cell_type": "code",
   "execution_count": null,
   "metadata": {},
   "outputs": [],
   "source": [
    "def getContourStartPoint(contours):\n",
    "    contour_start_points = []\n",
    "    contour_mapping = []\n",
    "    for i, contour in enumerate(contours):\n",
    "        contour_start_points.append(np.array(contour[0][0])) # start_point\n",
    "        contour_start_points.append(np.array(contour[-1][0])) # end_point\n",
    "\n",
    "        contour_mapping.append((i, False)) # start_point\n",
    "        contour_mapping.append((i, True)) # end_point\n",
    "\n",
    "    return np.array(contour_start_points), np.array(contour_mapping)\n",
    "\n",
    "start_point = np.array([0, 0])\n",
    "\n",
    "def optimize_contour_order(contours):\n",
    "    contour_start_points, contour_mapping = getContourStartPoint(contours) \n",
    "\n",
    "    new_order = np.array([])\n",
    "    contour_end_point = start_point # set the starting point as fist point\n",
    "\n",
    "    while True:\n",
    "        nn_index = np.argmin(cdist([contour_end_point], contour_start_points)) # get nearest neighbor index\n",
    "        nn_p_index = nn_index + 1 if nn_index % 2 == 0 else nn_index - 1 # get partner index\n",
    "        contour_end_point = contour_start_points[nn_p_index] # Set new contour end\n",
    "\n",
    "        new_order = np.append(new_order, contour_mapping[nn_index], axis=0) # Update Order\n",
    "\n",
    "        contour_start_points = np.delete(contour_start_points, [nn_index, nn_p_index], axis=0) # Remove used Kontours\n",
    "        contour_mapping = np.delete(contour_mapping, [nn_index, nn_p_index], axis=0) # Remove used Kontours\n",
    "\n",
    "        if len(contour_start_points) == 0:\n",
    "            break\n",
    "\n",
    "    # use new_order for contour and reverse some contours\n",
    "    return [contours[int(c_task[0])] if int(c_task[1]) == 0 else contours[int(c_task[0])][::-1] for c_task in new_order.reshape((-1, 2))] "
   ]
  },
  {
   "cell_type": "code",
   "execution_count": null,
   "metadata": {},
   "outputs": [
    {
     "data": {
      "text/plain": [
       "[array([[[9, 4]],\n",
       " \n",
       "        [[6, 7]],\n",
       " \n",
       "        [[8, 7]],\n",
       " \n",
       "        [[9, 9]],\n",
       " \n",
       "        [[7, 6]]], dtype=int32),\n",
       " array([[[3, 2]],\n",
       " \n",
       "        [[3, 5]]], dtype=int32),\n",
       " array([[[7, 0]],\n",
       " \n",
       "        [[5, 2]]], dtype=int32)]"
      ]
     },
     "execution_count": 88,
     "metadata": {},
     "output_type": "execute_result"
    }
   ],
   "source": [
    "edge_approximations_custom\n",
    "\n",
    "contour_start_points = [[9, 4], [7, 6], [3, 2], [3, 5], [7, 0], [5, 2]]\n",
    "\n",
    "contour_mapping = {\n",
    "    '[9, 4]': (1, False), # (contourIndex, reversedContour)\n",
    "    '[7, 6]': (1, True),\n",
    "    '[3, 2]': (2, False),\n",
    "    '[3, 5]': (2, True),\n",
    "    '[7, 0]': (3, False),\n",
    "    '[5, 2]': (3, True)\n",
    "}\n",
    "\n"
   ]
  },
  {
   "cell_type": "code",
   "execution_count": null,
   "metadata": {},
   "outputs": [
    {
     "name": "stdout",
     "output_type": "stream",
     "text": [
      "[array([[[9, 4]],\n",
      "\n",
      "       [[6, 7]]], dtype=int32), array([[[3, 2]],\n",
      "\n",
      "       [[3, 5]]], dtype=int32), array([[[7, 0]],\n",
      "\n",
      "       [[5, 2]]], dtype=int32)]\n",
      "original 27.46809874120876\n",
      "reordered 0.0\n",
      "calc time 0.0006029605865478516\n"
     ]
    }
   ],
   "source": [
    "import time\n",
    "\n",
    "start_time = time.time()\n",
    "ordered_contours = optimize_contour_order(edge_approximations_custom)\n",
    "duration = time.time() - start_time\n",
    "\n",
    "# Plot Improvement\n",
    "print('original', calculate_g0_distance(edge_approximations_custom))\n",
    "print('reordered', calculate_g0_distance(ordered_contours))\n",
    "print('calc time', duration)"
   ]
  },
  {
   "cell_type": "code",
   "execution_count": null,
   "metadata": {},
   "outputs": [],
   "source": []
  },
  {
   "cell_type": "code",
   "execution_count": null,
   "metadata": {},
   "outputs": [],
   "source": []
  },
  {
   "cell_type": "code",
   "execution_count": null,
   "metadata": {},
   "outputs": [
    {
     "name": "stdout",
     "output_type": "stream",
     "text": [
      "original 106222.96129783994\n",
      "reordered 21107.011432987747\n",
      "calc time 5.855712175369263\n"
     ]
    }
   ],
   "source": [
    "import time\n",
    "\n",
    "start_time = time.time()\n",
    "ordered_contours = optimize_contour_order(edge_approximations_preloaded[:300])\n",
    "duration = time.time() - start_time\n",
    "\n",
    "# Plot Improvement\n",
    "print('original', calculate_g0_distance(edge_approximations_preloaded))\n",
    "print('reordered', calculate_g0_distance(ordered_contours))\n",
    "print('calc time', duration)"
   ]
  },
  {
   "cell_type": "code",
   "execution_count": null,
   "metadata": {},
   "outputs": [
    {
     "data": {
      "text/plain": [
       "1426"
      ]
     },
     "execution_count": 32,
     "metadata": {},
     "output_type": "execute_result"
    }
   ],
   "source": [
    "len(edge_approximations_preloaded)"
   ]
  },
  {
   "attachments": {},
   "cell_type": "markdown",
   "metadata": {},
   "source": [
    "## 4. Generate GCODE\n",
    "---"
   ]
  },
  {
   "cell_type": "code",
   "execution_count": null,
   "metadata": {},
   "outputs": [
    {
     "name": "stdout",
     "output_type": "stream",
     "text": [
      "Generated GCODE\n",
      "Amount of Contours: 3\n",
      "Amount of Lines: 30\n"
     ]
    }
   ],
   "source": [
    "gcode_lines = []\n",
    "\n",
    "# Drehgeschwindigkeit und initiale Höhe festlegen\n",
    "gcode_lines += [\n",
    "    f'M03 S{spindle_speed}', \n",
    "    f'G00 Z{z_safe_hight}'\n",
    "]\n",
    "\n",
    "# GCODE für die Kontouren\n",
    "for i, edge_approx in enumerate(edge_approximations):\n",
    "    gcode_lines += [\n",
    "        f'######## Contour {i+1} ########',\n",
    "        f'G00 X{edge_approx[0][0][0]} Y{edge_approx[0][0][1]}',\n",
    "        f'G00 Z{z_working_hight}' if i == 0 else None,\n",
    "        'G00 Z0',\n",
    "        f'G01 Z-3 F{z_feed}',\n",
    "        f'G01 X{edge_approx[1][0][0]} Y{edge_approx[1][0][1]} F{xy_feed}' if len(edge_approx) > 1 else None,\n",
    "        *[f'G01 X{edge[0][0]} Y{edge[0][1]}' for edge in edge_approx[2:]],\n",
    "        f'G00 Z{z_working_hight}'\n",
    "    ]\n",
    "\n",
    "# Fräßkopf zu initialer Position zurückbewegen\n",
    "gcode_lines += [\n",
    "    '######## End ########',\n",
    "    f'G00 Z{z_safe_hight}',\n",
    "    'G00 X0 Y0',\n",
    "    'M05',\n",
    "    'M30'\n",
    "]\n",
    "\n",
    "# None Elemente entfernen und GCODE erstellen\n",
    "gcode = '\\n'.join([line for line in gcode_lines if line != None])\n",
    "\n",
    "# Save the G-code to a file\n",
    "with open('gcode.tap', \"w\") as f:\n",
    "    f.writelines(gcode)\n",
    "\n",
    "# Print GCODE Stats\n",
    "gcode_stats = [\n",
    "    'Generated GCODE',\n",
    "    f'Amount of Contours: {len(edge_approximations)}',\n",
    "    f'Amount of Lines: {len(gcode_lines)}',\n",
    "]\n",
    "\n",
    "print('\\n'.join(gcode_stats))"
   ]
  },
  {
   "cell_type": "code",
   "execution_count": null,
   "metadata": {},
   "outputs": [],
   "source": []
  },
  {
   "cell_type": "code",
   "execution_count": null,
   "metadata": {},
   "outputs": [],
   "source": []
  },
  {
   "cell_type": "code",
   "execution_count": null,
   "metadata": {},
   "outputs": [],
   "source": []
  },
  {
   "cell_type": "code",
   "execution_count": null,
   "metadata": {},
   "outputs": [],
   "source": []
  },
  {
   "cell_type": "code",
   "execution_count": null,
   "metadata": {},
   "outputs": [
    {
     "data": {
      "text/plain": [
       "array([[[8, 5]],\n",
       "\n",
       "       [[5, 8]],\n",
       "\n",
       "       [[8, 9]],\n",
       "\n",
       "       [[6, 7]]], dtype=int32)"
      ]
     },
     "execution_count": 145,
     "metadata": {},
     "output_type": "execute_result"
    }
   ],
   "source": [
    "edge_approximations[0][0:]"
   ]
  },
  {
   "cell_type": "code",
   "execution_count": null,
   "metadata": {},
   "outputs": [],
   "source": []
  }
 ],
 "metadata": {
  "kernelspec": {
   "display_name": "recsys",
   "language": "python",
   "name": "python3"
  },
  "language_info": {
   "codemirror_mode": {
    "name": "ipython",
    "version": 3
   },
   "file_extension": ".py",
   "mimetype": "text/x-python",
   "name": "python",
   "nbconvert_exporter": "python",
   "pygments_lexer": "ipython3",
   "version": "3.11.0"
  },
  "orig_nbformat": 4
 },
 "nbformat": 4,
 "nbformat_minor": 2
}
