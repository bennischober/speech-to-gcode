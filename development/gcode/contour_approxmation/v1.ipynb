{
 "cells": [
  {
   "cell_type": "code",
   "execution_count": 137,
   "metadata": {},
   "outputs": [],
   "source": [
    "import cv2\n",
    "import base64\n",
    "import numpy as np\n",
    "import matplotlib.pyplot as plt"
   ]
  },
  {
   "attachments": {},
   "cell_type": "markdown",
   "metadata": {},
   "source": [
    "## 1. Image Preprocessing\n",
    "---\n",
    "**Goal:** <br>\n",
    "M03 S24000 <br>\n",
    "G00 Z10.0 <br>\n",
    "6##################################### <br>\n",
    "G00 X7 Y0 <br>\n",
    "G00 Z0.5 <br>\n",
    "G00 Z0 <br>\n",
    "G01 Z-3 F500 <br>\n",
    "G01 X1 Y6 F1000 <br>\n",
    "G01 X4 Y9 <br>\n",
    "G00 Z0.5 <br>\n",
    "#########################End <br>\n",
    "G00 Z10.0 <br>\n",
    "G00 X0 Y0 <br>\n",
    "M05 <br>\n",
    "M30 <br>\n",
    "\n"
   ]
  },
  {
   "cell_type": "code",
   "execution_count": 147,
   "metadata": {},
   "outputs": [],
   "source": [
    "# Params \n",
    "# Wie groß darf der Abstand sein, dass der Punkt zu der Kontour dazugehört\n",
    "# Desto größer desto weniger Eckpunkte, desto ungenauer, desto schneller\n",
    "# Beachte epsilon kann auch in abhänigkeit der Kantenlänge erstellt werden\n",
    "fixed_epsilon = 1.5\n",
    "\n",
    "use_dynamic_epsilon = True\n",
    "max_epsilon = 3.5\n",
    "min_epsilon = 1.5"
   ]
  },
  {
   "cell_type": "code",
   "execution_count": 158,
   "metadata": {},
   "outputs": [],
   "source": [
    "edges = np.array([\n",
    "       [  0,   0,   0,   0,   0,   0,   0, 255,   0,   0],\n",
    "       [  0,   0,   0,   0,   0,   0, 255,   0,   0,   0],\n",
    "       [  0,   0,   0,   0,   0, 255,   0,   0,   0,   0],\n",
    "       [  0,   0,   0, 255, 255,   0,   0,   0,   0,   0],\n",
    "       [  0,   0,   0, 255,   0,   0,   0,   0,   0, 255],\n",
    "       [  0,   0, 255,   0,   0,   0,   0,   0, 255,   0],\n",
    "       [  0, 255,   0,   0,   0,   0,   0, 255,   0,   0],\n",
    "       [  0,   0, 255,   0,   0,   0, 255,   0, 255,   0],\n",
    "       [  0,   0,   0, 255,   0, 255,   0,   0,   0, 255],\n",
    "       [  0,   0,   0,   0,   0,   0,   0,   0,   0,   0]]).astype(np.uint8)\n",
    "\n",
    "contours, _ = cv2.findContours(edges, cv2.RETR_LIST, cv2.CHAIN_APPROX_SIMPLE)\n",
    "\n",
    "# Führe die Approximation der Kontur durch Geradensegmente durch\n",
    "# epsilon = 0.02 * cv2.arcLength(contours[0], True)  # Passe den Epsilon-Wert nach Bedarf an\n",
    "\n",
    "edge_approximations = []\n",
    "\n",
    "for i in range(len(contours)):\n",
    "       edge_approx = cv2.approxPolyDP(contours[i], fixed_epsilon, True)\n",
    "       \n",
    "       # remove last element if it is already in contour\n",
    "       if edge_approx[-1] in edge_approx[:-1]:\n",
    "              edge_approx = edge_approx[:-1]\n",
    "       \n",
    "       edge_approximations.append(edge_approx)"
   ]
  },
  {
   "cell_type": "code",
   "execution_count": 159,
   "metadata": {},
   "outputs": [
    {
     "data": {
      "text/plain": [
       "[array([[[9, 4]],\n",
       " \n",
       "        [[5, 8]],\n",
       " \n",
       "        [[7, 6]],\n",
       " \n",
       "        [[9, 8]]], dtype=int32),\n",
       " array([[[7, 0]],\n",
       " \n",
       "        [[1, 6]],\n",
       " \n",
       "        [[3, 8]]], dtype=int32)]"
      ]
     },
     "execution_count": 159,
     "metadata": {},
     "output_type": "execute_result"
    }
   ],
   "source": [
    "edge_approximations"
   ]
  },
  {
   "cell_type": "code",
   "execution_count": 160,
   "metadata": {},
   "outputs": [
    {
     "data": {
      "image/png": "[encoded data removed]",
      "text/plain": [
       "<Figure size 640x480 with 1 Axes>"
      ]
     },
     "metadata": {},
     "output_type": "display_data"
    }
   ],
   "source": [
    "# Plot des Edge-Bildes\n",
    "plt.imshow(edges, cmap='gray')\n",
    "\n",
    "# Plot der approximierten Kanten als Linien mit blauer Farbe\n",
    "for edge_approx in edge_approximations:\n",
    "    x_approx = edge_approx[:, :, 0].flatten()\n",
    "    y_approx = edge_approx[:, :, 1].flatten()\n",
    "    plt.plot(x_approx, y_approx, color='blue')\n",
    "\n",
    "    # Plot der Eckpunkte als rote Punkte\n",
    "    plt.plot(x_approx, y_approx, 'ro')\n",
    "\n",
    "# Anpassung der Achsenskalierung\n",
    "plt.axis('scaled')\n",
    "\n",
    "# Anzeigen des Diagramms\n",
    "plt.show()"
   ]
  },
  {
   "attachments": {},
   "cell_type": "markdown",
   "metadata": {},
   "source": [
    "## 2. Generate GCODE\n",
    "---"
   ]
  },
  {
   "cell_type": "code",
   "execution_count": 143,
   "metadata": {},
   "outputs": [],
   "source": [
    "# Params\n",
    "z_safe_hight = 10.0\n",
    "z_working_hight = 0.5\n",
    "z_depth = 3\n",
    "z_feed = 500\n",
    "xy_feed = 1000\n",
    "spindle_speed = 24000"
   ]
  },
  {
   "cell_type": "code",
   "execution_count": 144,
   "metadata": {},
   "outputs": [
    {
     "name": "stdout",
     "output_type": "stream",
     "text": [
      "M03 S24000\n",
      "G00 Z10.0\n",
      "######## Contour 1 ########\n",
      "G00 X8 Y5\n",
      "G00 Z0.5\n",
      "G00 Z0\n",
      "G01 Z-3 F500\n",
      "G01 X5 Y8 F1000\n",
      "G01 X8 Y9\n",
      "G01 X6 Y7\n",
      "G00 Z0.5\n",
      "######## Contour 2 ########\n",
      "G00 X7 Y0\n",
      "G00 Z0\n",
      "G01 Z-3 F500\n",
      "G01 X1 Y6 F1000\n",
      "G01 X3 Y8\n",
      "G00 Z0.5\n",
      "######## End ########\n",
      "G00 Z10.0\n",
      "G00 X0 Y0\n",
      "M05\n",
      "M30\n"
     ]
    }
   ],
   "source": [
    "gcode_lines = []\n",
    "\n",
    "# Drehgeschwindigkeit und initiale Höhe festlegen\n",
    "gcode_lines += [\n",
    "    f'M03 S{spindle_speed}', \n",
    "    f'G00 Z{z_safe_hight}'\n",
    "]\n",
    "\n",
    "# GCODE für die Kontouren\n",
    "for i, edge_approx in enumerate(edge_approximations):\n",
    "    gcode_lines += [\n",
    "        f'######## Contour {i+1} ########',\n",
    "        f'G00 X{edge_approx[0][0][0]} Y{edge_approx[0][0][1]}',\n",
    "        f'G00 Z{z_working_hight}' if i == 0 else None,\n",
    "        'G00 Z0',\n",
    "        f'G01 Z-3 F{z_feed}',\n",
    "        f'G01 X{edge_approx[1][0][0]} Y{edge_approx[1][0][1]} F{xy_feed}',\n",
    "        *[f'G01 X{edge[0][0]} Y{edge[0][1]}' for edge in edge_approx[2:]],\n",
    "        f'G00 Z{z_working_hight}'\n",
    "    ]\n",
    "\n",
    "# Fräßkopf zu initialer Position zurückbewegen\n",
    "gcode_lines += [\n",
    "    '######## End ########',\n",
    "    f'G00 Z{z_safe_hight}',\n",
    "    'G00 X0 Y0',\n",
    "    'M05',\n",
    "    'M30'\n",
    "]\n",
    "\n",
    "# None Elemente entfernen und GCODE erstellen\n",
    "gcode = '\\n'.join([line for line in gcode_lines if line != None])\n",
    "print(gcode)"
   ]
  },
  {
   "cell_type": "code",
   "execution_count": 145,
   "metadata": {},
   "outputs": [
    {
     "data": {
      "text/plain": [
       "array([[[8, 5]],\n",
       "\n",
       "       [[5, 8]],\n",
       "\n",
       "       [[8, 9]],\n",
       "\n",
       "       [[6, 7]]], dtype=int32)"
      ]
     },
     "execution_count": 145,
     "metadata": {},
     "output_type": "execute_result"
    }
   ],
   "source": [
    "edge_approximations[0][0:]"
   ]
  },
  {
   "cell_type": "code",
   "execution_count": null,
   "metadata": {},
   "outputs": [],
   "source": []
  }
 ],
 "metadata": {
  "kernelspec": {
   "display_name": "recsys",
   "language": "python",
   "name": "python3"
  },
  "language_info": {
   "codemirror_mode": {
    "name": "ipython",
    "version": 3
   },
   "file_extension": ".py",
   "mimetype": "text/x-python",
   "name": "python",
   "nbconvert_exporter": "python",
   "pygments_lexer": "ipython3",
   "version": "3.11.0"
  },
  "orig_nbformat": 4
 },
 "nbformat": 4,
 "nbformat_minor": 2
}
