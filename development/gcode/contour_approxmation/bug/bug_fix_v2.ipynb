{
 "cells": [
  {
   "cell_type": "code",
   "execution_count": 1,
   "metadata": {},
   "outputs": [],
   "source": [
    "import cv2\n",
    "import numpy as np\n",
    "import matplotlib.pyplot as plt"
   ]
  },
  {
   "cell_type": "code",
   "execution_count": 2,
   "metadata": {},
   "outputs": [],
   "source": [
    "def plot_edge_approx(edge_image, edge_approximations):\n",
    "    # Plot des Edge-Bildes\n",
    "    plt.imshow(edge_image, cmap='gray')\n",
    "\n",
    "    # Plot der approximierten Kanten als Linien mit blauer Farbe\n",
    "    for edge_approx in edge_approximations:\n",
    "        x_approx = edge_approx[:, :, 0].flatten()\n",
    "        y_approx = edge_approx[:, :, 1].flatten()\n",
    "        plt.plot(x_approx, y_approx, color='blue')\n",
    "\n",
    "        # Plot der Eckpunkte als rote Punkte\n",
    "        plt.plot(x_approx, y_approx, 'ro')\n",
    "\n",
    "    plt.title('Edge Approximation')\n",
    "\n",
    "    # Anpassung der Achsenskalierung\n",
    "    plt.axis('scaled')\n",
    "\n",
    "    # Anzeigen des Diagramms\n",
    "    plt.show()"
   ]
  },
  {
   "attachments": {},
   "cell_type": "markdown",
   "metadata": {},
   "source": [
    "## 1. BUG Fix Second Try\n",
    "---\n",
    "The Edge Points are already Ordered by approxPolyDP"
   ]
  },
  {
   "cell_type": "code",
   "execution_count": 114,
   "metadata": {},
   "outputs": [],
   "source": [
    "edge_image = np.array([\n",
    "       [255,   0, 255, 255, 255, 255, 255, 255, 255, 255],\n",
    "       [255,   0,   0,   0,   0,   0,   0,   0,   0, 255],\n",
    "       [255,   0,   0,   0,   0,   0,   0,   0,   0, 255],\n",
    "       [255,   0,   0,   0,   0,   0,   0,   0,   0, 255],\n",
    "       [255,   0,   0,   0,   0,   0,   0,   0,   0, 255],\n",
    "       [255,   0,   0,   0,   0,   0,   0,   0,   0, 255],\n",
    "       [255,   0,   0,   0,   0,   0,   0,   0,   0, 255],\n",
    "       [255,   0,   0,   0,   0,   0,   0,   0,   0, 255],\n",
    "       [255,   0,   0,   0,   0,   0,   0,   0,   0, 255],\n",
    "       [255, 255, 255, 255, 255, 255, 255, 255, 255, 255]]).astype(np.uint8)\n",
    "\n",
    "contours, _ = cv2.findContours(edge_image, cv2.RETR_EXTERNAL, cv2.CHAIN_APPROX_NONE)\n",
    "sorted_points = sorted(contours[0], key=lambda x: x[0][0])"
   ]
  },
  {
   "cell_type": "code",
   "execution_count": 115,
   "metadata": {},
   "outputs": [
    {
     "data": {
      "text/plain": [
       "[array([[0, 0]], dtype=int32),\n",
       " array([[0, 1]], dtype=int32),\n",
       " array([[0, 2]], dtype=int32),\n",
       " array([[0, 3]], dtype=int32),\n",
       " array([[0, 4]], dtype=int32),\n",
       " array([[0, 5]], dtype=int32),\n",
       " array([[0, 6]], dtype=int32),\n",
       " array([[0, 7]], dtype=int32),\n",
       " array([[0, 8]], dtype=int32),\n",
       " array([[0, 9]], dtype=int32),\n",
       " array([[0, 8]], dtype=int32),\n",
       " array([[0, 7]], dtype=int32),\n",
       " array([[0, 6]], dtype=int32),\n",
       " array([[0, 5]], dtype=int32),\n",
       " array([[0, 4]], dtype=int32),\n",
       " array([[0, 3]], dtype=int32),\n",
       " array([[0, 2]], dtype=int32),\n",
       " array([[0, 1]], dtype=int32),\n",
       " array([[1, 9]], dtype=int32),\n",
       " array([[1, 9]], dtype=int32),\n",
       " array([[2, 9]], dtype=int32),\n",
       " array([[2, 0]], dtype=int32),\n",
       " array([[2, 9]], dtype=int32),\n",
       " array([[3, 9]], dtype=int32),\n",
       " array([[3, 0]], dtype=int32),\n",
       " array([[3, 0]], dtype=int32),\n",
       " array([[3, 9]], dtype=int32),\n",
       " array([[4, 9]], dtype=int32),\n",
       " array([[4, 0]], dtype=int32),\n",
       " array([[4, 0]], dtype=int32),\n",
       " array([[4, 9]], dtype=int32),\n",
       " array([[5, 9]], dtype=int32),\n",
       " array([[5, 0]], dtype=int32),\n",
       " array([[5, 0]], dtype=int32),\n",
       " array([[5, 9]], dtype=int32),\n",
       " array([[6, 9]], dtype=int32),\n",
       " array([[6, 0]], dtype=int32),\n",
       " array([[6, 0]], dtype=int32),\n",
       " array([[6, 9]], dtype=int32),\n",
       " array([[7, 9]], dtype=int32),\n",
       " array([[7, 0]], dtype=int32),\n",
       " array([[7, 0]], dtype=int32),\n",
       " array([[7, 9]], dtype=int32),\n",
       " array([[8, 9]], dtype=int32),\n",
       " array([[8, 0]], dtype=int32),\n",
       " array([[8, 0]], dtype=int32),\n",
       " array([[8, 9]], dtype=int32),\n",
       " array([[9, 9]], dtype=int32),\n",
       " array([[9, 8]], dtype=int32),\n",
       " array([[9, 7]], dtype=int32),\n",
       " array([[9, 6]], dtype=int32),\n",
       " array([[9, 5]], dtype=int32),\n",
       " array([[9, 4]], dtype=int32),\n",
       " array([[9, 3]], dtype=int32),\n",
       " array([[9, 2]], dtype=int32),\n",
       " array([[9, 1]], dtype=int32),\n",
       " array([[9, 0]], dtype=int32),\n",
       " array([[9, 1]], dtype=int32),\n",
       " array([[9, 2]], dtype=int32),\n",
       " array([[9, 3]], dtype=int32),\n",
       " array([[9, 4]], dtype=int32),\n",
       " array([[9, 5]], dtype=int32),\n",
       " array([[9, 6]], dtype=int32),\n",
       " array([[9, 7]], dtype=int32),\n",
       " array([[9, 8]], dtype=int32)]"
      ]
     },
     "execution_count": 115,
     "metadata": {},
     "output_type": "execute_result"
    }
   ],
   "source": [
    "sorted_points"
   ]
  },
  {
   "cell_type": "code",
   "execution_count": 117,
   "metadata": {},
   "outputs": [
    {
     "data": {
      "text/plain": [
       "array([[0, 9]], dtype=int32)"
      ]
     },
     "execution_count": 117,
     "metadata": {},
     "output_type": "execute_result"
    }
   ],
   "source": [
    "sorted_points[9]"
   ]
  },
  {
   "cell_type": "code",
   "execution_count": 138,
   "metadata": {},
   "outputs": [],
   "source": [
    "def getContourApproximation(edge_image, epsilon):\n",
    "    # Finde Konturen im Schwellwertbild\n",
    "    contours, _ = cv2.findContours(edge_image, cv2.RETR_EXTERNAL, cv2.CHAIN_APPROX_NONE)\n",
    "\n",
    "    contour_segments = []\n",
    "    # Fitting von Geraden durch die Konturen\n",
    "    for contour in contours:\n",
    "        # Konturpunkte reduzieren\n",
    "        approx = cv2.approxPolyDP(contour, epsilon, True)\n",
    "\n",
    "        # Sortieren der Konturen\n",
    "        # sorted_points = np.array(sorted(contour, key=lambda x: x[0][0]))\n",
    "        sorted_points = contour\n",
    "        # print('sorted_points', sorted_points)\n",
    "        rescent_index = 0\n",
    "\n",
    "        # print('sorted_points', sorted_points)\n",
    "        # print('approx', approx)\n",
    "        \n",
    "        segment = []\n",
    "        # Segmente hinzufügen\n",
    "        for i in range(len(approx)):\n",
    "            if i == 0:\n",
    "                start_point = approx[i][0]\n",
    "                segment.append(np.array([start_point]))\n",
    "\n",
    "            end_point = approx[(i+1) % len(approx)][0]\n",
    "\n",
    "            # Find Index\n",
    "            indexes = np.where(np.all(sorted_points == end_point, axis=(1, 2)))\n",
    "            if indexes[0].size == 0:\n",
    "                break\n",
    "\n",
    "            delete_indices = slice(rescent_index + 1, indexes[0][0])\n",
    "            # print('!!!!!', delete_indices)\n",
    "            sorted_points = np.delete(sorted_points, delete_indices, axis=0)\n",
    "\n",
    "            # if ((len(sorted_points) <= rescent_index - 1) and np.all(sorted_points == end_point, axis=(1, 2)) == False):\n",
    "\n",
    "            # reset resecent_index\n",
    "            rescent_index += 2 \n",
    "\n",
    "            # append edgepoint to segment\n",
    "            segment.append(np.array([end_point]))\n",
    "\n",
    "            if (len(sorted_points) <= rescent_index - 1):\n",
    "                break\n",
    "\n",
    "            # print('sorted_points', sorted_points)\n",
    "            # print('end_point', end_point)\n",
    "            # print('indexes', indexes[0][0])\n",
    "            print('rescent_index', rescent_index)\n",
    "            print('len(sorted_points)', len(sorted_points))\n",
    "            # print('-------------- \\n')\n",
    "\n",
    "        contour_segments.append(np.array(segment))\n",
    "\n",
    "    return contour_segments\n"
   ]
  },
  {
   "attachments": {},
   "cell_type": "markdown",
   "metadata": {},
   "source": [
    "## 2. Test Algorithm\n",
    "---\n",
    "### 2.1 Test 1\n",
    "- High Epsilon: Success"
   ]
  },
  {
   "cell_type": "code",
   "execution_count": 133,
   "metadata": {},
   "outputs": [
    {
     "data": {
      "image/png": "[encoded data removed]",
      "text/plain": [
       "<Figure size 640x480 with 1 Axes>"
      ]
     },
     "metadata": {},
     "output_type": "display_data"
    }
   ],
   "source": [
    "edge_image = np.array([\n",
    "       [255, 255, 255, 255, 255, 255, 255, 255, 255, 255],\n",
    "       [255,   0,   0,   0,   0,   0,   0,   0,   0, 255],\n",
    "       [255,   0,   0,   0,   0,   0,   0,   0,   0, 255],\n",
    "       [255,   0,   0,   0,   0,   0,   0,   0,   0, 255],\n",
    "       [255,   0,   0,   0,   0,   0,   0,   0,   0, 255],\n",
    "       [255,   0,   0,   0,   0,   0,   0,   0,   0, 255],\n",
    "       [255,   0,   0,   0,   0,   0,   0,   0,   0, 255],\n",
    "       [255,   0,   0,   0,   0,   0,   0,   0,   0, 255],\n",
    "       [255,   0,   0,   0,   0,   0,   0,   0,   0, 255],\n",
    "       [255, 255, 255, 255, 255, 255, 255, 255, 255, 255]]).astype(np.uint8)\n",
    "\n",
    "plot_edge_approx(edge_image, getContourApproximation(edge_image, 10))"
   ]
  },
  {
   "attachments": {},
   "cell_type": "markdown",
   "metadata": {},
   "source": [
    "### 2.2 Test 2\n",
    "- Problem: Konturen sind nicht so sortiert wie gewünscht."
   ]
  },
  {
   "cell_type": "code",
   "execution_count": 287,
   "metadata": {},
   "outputs": [],
   "source": [
    "def checkIfSegmentNotInUsedContours(segment_contour_points, used_contour_points):\n",
    "    is_not_in = False\n",
    "    for point in segment_contour_points:\n",
    "        if not any(np.all(point == p) for p in used_contour_points):\n",
    "            is_not_in = True\n",
    "            break\n",
    "    return is_not_in\n",
    "\n",
    "def getContourApproximation2(edge_image, epsilon):\n",
    "    contours, _ = cv2.findContours(edge_image, cv2.RETR_EXTERNAL, cv2.CHAIN_APPROX_NONE)\n",
    "\n",
    "    contour_segments = []\n",
    "    for contour in contours:\n",
    "        approx = cv2.approxPolyDP(contour, epsilon, True)\n",
    "\n",
    "        print('contour', ','.join([str(k) for k in contour]), '\\n')\n",
    "        print('approx', ','.join([str(k) for k in approx]), '\\n')\n",
    "\n",
    "        sorted_points = contour\n",
    "        rescent_index = 0\n",
    "        \n",
    "        used_contour_points = None\n",
    "        segment = []\n",
    "        for i in range(len(approx)):\n",
    "            if i == 0:\n",
    "                start_point = approx[i][0]\n",
    "                segment.append(np.array([start_point]))\n",
    "            end_point = approx[(i+1) % len(approx)][0]\n",
    "\n",
    "            indexes = np.where(np.all(contour == end_point, axis=(1, 2)))\n",
    "\n",
    "\n",
    "            # Find Index\n",
    "            indexes = np.where(np.all(sorted_points == end_point, axis=(1, 2)))\n",
    "            if indexes[0].size == 0:\n",
    "                break\n",
    "\n",
    "            segment_contour_points = None\n",
    "            if i == len(approx) - 1:\n",
    "                segment_contour_points = np.concatenate((contour[rescent_index:], contour[:indexes[0][0]]))\n",
    "            elif rescent_index < indexes[0][0]:\n",
    "                segment_contour_points = contour[rescent_index: indexes[0][0]]\n",
    "            elif rescent_index > indexes[0][0]:\n",
    "                segment_contour_points = contour[indexes[0][0]: rescent_index]\n",
    "\n",
    "\n",
    "            # segment_contour_points = contour[rescent_index: indexes[0][0]] if rescent_index < indexes[0][0] else contour[indexes[0][0]: rescent_index]\n",
    "            \n",
    "            print('\\nsegment', ','.join([str(k) for k in segment_contour_points]))\n",
    "            print('used_contour_points', ','.join([str(k) for k in used_contour_points]) if i != 0 else used_contour_points)\n",
    "            print('recentIndex', rescent_index, 'index', indexes[0][0], 'end_point', end_point)\n",
    "            print('is in', checkIfSegmentNotInUsedContours(segment_contour_points, used_contour_points) if i != 0 else True)\n",
    "            \n",
    "            if checkIfSegmentNotInUsedContours(segment_contour_points, used_contour_points) if i != 0 else True:\n",
    "                if i == 0:\n",
    "                    used_contour_points = contour[rescent_index: indexes[0][0]]\n",
    "                else:\n",
    "                    used_contour_points = np.concatenate((used_contour_points, contour[rescent_index: indexes[0][0]]), axis=0)\n",
    "            else:\n",
    "                print('!!!!!!!! END !!!!!!!!!!')\n",
    "                break\n",
    "\n",
    "            rescent_index = indexes[0][0]\n",
    "            segment.append(np.array([end_point]))\n",
    "\n",
    "        contour_segments.append(np.array(segment))\n",
    "\n",
    "    return contour_segments\n"
   ]
  },
  {
   "cell_type": "code",
   "execution_count": 288,
   "metadata": {},
   "outputs": [
    {
     "name": "stdout",
     "output_type": "stream",
     "text": [
      "contour [[0 0]],[[0 1]],[[0 2]],[[0 3]],[[0 4]],[[0 5]],[[0 6]],[[0 7]],[[0 8]],[[0 9]],[[1 9]],[[2 9]],[[3 9]],[[4 9]],[[5 9]],[[6 9]],[[7 9]],[[8 9]],[[9 9]],[[9 8]],[[9 7]],[[9 6]],[[9 5]],[[9 4]],[[9 3]],[[9 2]],[[9 1]],[[9 0]],[[8 0]],[[7 0]],[[6 0]],[[5 0]],[[4 0]],[[3 0]],[[2 0]],[[1 0]] \n",
      "\n",
      "approx [[0 0]],[[0 9]],[[9 9]],[[9 0]] \n",
      "\n",
      "\n",
      "segment [[0 0]],[[0 1]],[[0 2]],[[0 3]],[[0 4]],[[0 5]],[[0 6]],[[0 7]],[[0 8]]\n",
      "used_contour_points None\n",
      "recentIndex 0 index 9 end_point [0 9]\n",
      "is in True\n",
      "\n",
      "segment [[0 9]],[[1 9]],[[2 9]],[[3 9]],[[4 9]],[[5 9]],[[6 9]],[[7 9]],[[8 9]]\n",
      "used_contour_points [[0 0]],[[0 1]],[[0 2]],[[0 3]],[[0 4]],[[0 5]],[[0 6]],[[0 7]],[[0 8]]\n",
      "recentIndex 9 index 18 end_point [9 9]\n",
      "is in True\n",
      "\n",
      "segment [[9 9]],[[9 8]],[[9 7]],[[9 6]],[[9 5]],[[9 4]],[[9 3]],[[9 2]],[[9 1]]\n",
      "used_contour_points [[0 0]],[[0 1]],[[0 2]],[[0 3]],[[0 4]],[[0 5]],[[0 6]],[[0 7]],[[0 8]],[[0 9]],[[1 9]],[[2 9]],[[3 9]],[[4 9]],[[5 9]],[[6 9]],[[7 9]],[[8 9]]\n",
      "recentIndex 18 index 27 end_point [9 0]\n",
      "is in True\n",
      "\n",
      "segment [[9 0]],[[8 0]],[[7 0]],[[6 0]],[[5 0]],[[4 0]],[[3 0]],[[2 0]],[[1 0]]\n",
      "used_contour_points [[0 0]],[[0 1]],[[0 2]],[[0 3]],[[0 4]],[[0 5]],[[0 6]],[[0 7]],[[0 8]],[[0 9]],[[1 9]],[[2 9]],[[3 9]],[[4 9]],[[5 9]],[[6 9]],[[7 9]],[[8 9]],[[9 9]],[[9 8]],[[9 7]],[[9 6]],[[9 5]],[[9 4]],[[9 3]],[[9 2]],[[9 1]]\n",
      "recentIndex 27 index 0 end_point [0 0]\n",
      "is in True\n",
      "############# \n",
      " edge_points [[0 0]],[[0 9]],[[9 9]],[[9 0]],[[0 0]]\n"
     ]
    },
    {
     "data": {
      "image/png": "[encoded data removed]",
      "text/plain": [
       "<Figure size 640x480 with 1 Axes>"
      ]
     },
     "metadata": {},
     "output_type": "display_data"
    }
   ],
   "source": [
    "edge_image = np.array([\n",
    "       [255, 255, 255, 255, 255, 255, 255, 255, 255, 255],\n",
    "       [255,   0,   0,   0,   0,   0,   0,   0,   0, 255],\n",
    "       [255,   0,   0,   0,   0,   0,   0,   0,   0, 255],\n",
    "       [255,   0,   0,   0,   0,   0,   0,   0,   0, 255],\n",
    "       [255,   0,   0,   0,   0,   0,   0,   0,   0, 255],\n",
    "       [255,   0,   0,   0,   0,   0,   0,   0,   0, 255],\n",
    "       [255,   0,   0,   0,   0,   0,   0,   0,   0, 255],\n",
    "       [255,   0,   0,   0,   0,   0,   0,   0,   0, 255],\n",
    "       [255,   0,   0,   0,   0,   0,   0,   0,   0, 255],\n",
    "       [255, 255, 255, 255, 255, 255, 255, 255, 255, 255]]).astype(np.uint8)\n",
    "\n",
    "\n",
    "edge_points = getContourApproximation2(edge_image, 1)\n",
    "print('############# \\n edge_points', ','.join([str(k) for k in edge_points[0]]))\n",
    "plot_edge_approx(edge_image, edge_points)"
   ]
  },
  {
   "cell_type": "code",
   "execution_count": 291,
   "metadata": {},
   "outputs": [
    {
     "name": "stdout",
     "output_type": "stream",
     "text": [
      "contour [[0 0]],[[0 1]],[[0 2]],[[0 3]],[[0 4]],[[0 5]],[[0 6]],[[0 7]],[[0 8]],[[0 9]],[[1 9]],[[2 9]],[[3 9]],[[4 9]],[[5 9]],[[6 9]],[[7 9]],[[8 9]],[[9 9]],[[9 8]],[[9 7]],[[9 6]],[[9 5]],[[9 4]],[[9 3]],[[9 2]],[[9 1]],[[9 0]],[[8 1]],[[7 2]],[[6 3]],[[5 4]],[[4 5]],[[3 4]],[[2 3]],[[2 2]],[[1 1]] \n",
      "\n",
      "approx [[0 0]],[[0 9]],[[9 9]],[[9 0]],[[4 5]],[[2 3]],[[2 2]] \n",
      "\n",
      "\n",
      "segment [[0 0]],[[0 1]],[[0 2]],[[0 3]],[[0 4]],[[0 5]],[[0 6]],[[0 7]],[[0 8]]\n",
      "used_contour_points None\n",
      "recentIndex 0 index 9 end_point [0 9]\n",
      "is in True\n",
      "\n",
      "segment [[0 9]],[[1 9]],[[2 9]],[[3 9]],[[4 9]],[[5 9]],[[6 9]],[[7 9]],[[8 9]]\n",
      "used_contour_points [[0 0]],[[0 1]],[[0 2]],[[0 3]],[[0 4]],[[0 5]],[[0 6]],[[0 7]],[[0 8]]\n",
      "recentIndex 9 index 18 end_point [9 9]\n",
      "is in True\n",
      "\n",
      "segment [[9 9]],[[9 8]],[[9 7]],[[9 6]],[[9 5]],[[9 4]],[[9 3]],[[9 2]],[[9 1]]\n",
      "used_contour_points [[0 0]],[[0 1]],[[0 2]],[[0 3]],[[0 4]],[[0 5]],[[0 6]],[[0 7]],[[0 8]],[[0 9]],[[1 9]],[[2 9]],[[3 9]],[[4 9]],[[5 9]],[[6 9]],[[7 9]],[[8 9]]\n",
      "recentIndex 18 index 27 end_point [9 0]\n",
      "is in True\n",
      "\n",
      "segment [[9 0]],[[8 1]],[[7 2]],[[6 3]],[[5 4]]\n",
      "used_contour_points [[0 0]],[[0 1]],[[0 2]],[[0 3]],[[0 4]],[[0 5]],[[0 6]],[[0 7]],[[0 8]],[[0 9]],[[1 9]],[[2 9]],[[3 9]],[[4 9]],[[5 9]],[[6 9]],[[7 9]],[[8 9]],[[9 9]],[[9 8]],[[9 7]],[[9 6]],[[9 5]],[[9 4]],[[9 3]],[[9 2]],[[9 1]]\n",
      "recentIndex 27 index 32 end_point [4 5]\n",
      "is in True\n",
      "\n",
      "segment [[4 5]],[[3 4]]\n",
      "used_contour_points [[0 0]],[[0 1]],[[0 2]],[[0 3]],[[0 4]],[[0 5]],[[0 6]],[[0 7]],[[0 8]],[[0 9]],[[1 9]],[[2 9]],[[3 9]],[[4 9]],[[5 9]],[[6 9]],[[7 9]],[[8 9]],[[9 9]],[[9 8]],[[9 7]],[[9 6]],[[9 5]],[[9 4]],[[9 3]],[[9 2]],[[9 1]],[[9 0]],[[8 1]],[[7 2]],[[6 3]],[[5 4]]\n",
      "recentIndex 32 index 34 end_point [2 3]\n",
      "is in True\n",
      "\n",
      "segment [[2 3]]\n",
      "used_contour_points [[0 0]],[[0 1]],[[0 2]],[[0 3]],[[0 4]],[[0 5]],[[0 6]],[[0 7]],[[0 8]],[[0 9]],[[1 9]],[[2 9]],[[3 9]],[[4 9]],[[5 9]],[[6 9]],[[7 9]],[[8 9]],[[9 9]],[[9 8]],[[9 7]],[[9 6]],[[9 5]],[[9 4]],[[9 3]],[[9 2]],[[9 1]],[[9 0]],[[8 1]],[[7 2]],[[6 3]],[[5 4]],[[4 5]],[[3 4]]\n",
      "recentIndex 34 index 35 end_point [2 2]\n",
      "is in True\n",
      "\n",
      "segment [[2 2]],[[1 1]]\n",
      "used_contour_points [[0 0]],[[0 1]],[[0 2]],[[0 3]],[[0 4]],[[0 5]],[[0 6]],[[0 7]],[[0 8]],[[0 9]],[[1 9]],[[2 9]],[[3 9]],[[4 9]],[[5 9]],[[6 9]],[[7 9]],[[8 9]],[[9 9]],[[9 8]],[[9 7]],[[9 6]],[[9 5]],[[9 4]],[[9 3]],[[9 2]],[[9 1]],[[9 0]],[[8 1]],[[7 2]],[[6 3]],[[5 4]],[[4 5]],[[3 4]],[[2 3]]\n",
      "recentIndex 35 index 0 end_point [0 0]\n",
      "is in True\n",
      "############# \n",
      " edge_points [[0 0]],[[0 9]],[[9 9]],[[9 0]],[[4 5]],[[2 3]],[[2 2]],[[0 0]]\n"
     ]
    },
    {
     "data": {
      "image/png": "[encoded data removed]",
      "text/plain": [
       "<Figure size 640x480 with 1 Axes>"
      ]
     },
     "metadata": {},
     "output_type": "display_data"
    }
   ],
   "source": [
    "edge_image = np.array([\n",
    "       [255,   0,   0,   0,   0,   0,   0,   0,   0, 255],\n",
    "       [255, 255,   0,   0,   0,   0,   0,   0, 255, 255],\n",
    "       [255,   0, 255,   0,   0,   0,   0, 255,   0, 255],\n",
    "       [255,   0, 255,   0,   0,   0, 255,   0,   0, 255],\n",
    "       [255,   0,   0, 255,   0, 255,   0,   0,   0, 255],\n",
    "       [255,   0,   0,   0, 255,   0,   0,   0,   0, 255],\n",
    "       [255,   0,   0,   0,   0,   0,   0,   0,   0, 255],\n",
    "       [255,   0,   0,   0,   0,   0,   0,   0,   0, 255],\n",
    "       [255,   0,   0,   0,   0,   0,   0,   0,   0, 255],\n",
    "       [255, 255, 255, 255, 255, 255, 255, 255, 255, 255]]).astype(np.uint8)\n",
    "\n",
    "\n",
    "edge_points = getContourApproximation2(edge_image, 0)\n",
    "print('############# \\n edge_points', ','.join([str(k) for k in edge_points[0]]))\n",
    "plot_edge_approx(edge_image, edge_points)"
   ]
  },
  {
   "cell_type": "code",
   "execution_count": null,
   "metadata": {},
   "outputs": [],
   "source": []
  }
 ],
 "metadata": {
  "kernelspec": {
   "display_name": "recsys",
   "language": "python",
   "name": "python3"
  },
  "language_info": {
   "codemirror_mode": {
    "name": "ipython",
    "version": 3
   },
   "file_extension": ".py",
   "mimetype": "text/x-python",
   "name": "python",
   "nbconvert_exporter": "python",
   "pygments_lexer": "ipython3",
   "version": "3.11.0"
  },
  "orig_nbformat": 4
 },
 "nbformat": 4,
 "nbformat_minor": 2
}
