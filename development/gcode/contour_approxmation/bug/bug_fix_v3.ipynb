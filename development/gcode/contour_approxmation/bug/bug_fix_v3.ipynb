{
 "cells": [
  {
   "cell_type": "code",
   "execution_count": 1,
   "metadata": {},
   "outputs": [],
   "source": [
    "import cv2\n",
    "import numpy as np\n",
    "import matplotlib.pyplot as plt"
   ]
  },
  {
   "cell_type": "code",
   "execution_count": 2,
   "metadata": {},
   "outputs": [],
   "source": [
    "def plot_edge_approx(edge_image, edge_approximations):\n",
    "    # Plot des Edge-Bildes\n",
    "    plt.imshow(edge_image, cmap='gray')\n",
    "\n",
    "    # Plot der approximierten Kanten als Linien mit blauer Farbe\n",
    "    for edge_approx in edge_approximations:\n",
    "        x_approx = edge_approx[:, :, 0].flatten()\n",
    "        y_approx = edge_approx[:, :, 1].flatten()\n",
    "        plt.plot(x_approx, y_approx, color='blue')\n",
    "\n",
    "        # Plot der Eckpunkte als rote Punkte\n",
    "        plt.plot(x_approx, y_approx, 'ro')\n",
    "\n",
    "    plt.title('Edge Approximation')\n",
    "\n",
    "    # Anpassung der Achsenskalierung\n",
    "    plt.axis('scaled')\n",
    "\n",
    "    # Anzeigen des Diagramms\n",
    "    plt.show()"
   ]
  },
  {
   "cell_type": "code",
   "execution_count": 3,
   "metadata": {},
   "outputs": [],
   "source": [
    "def plot_edge_approx2(edge_image, edge_points, feed_points):\n",
    "    # Plot des Edge-Bildes\n",
    "    plt.imshow(edge_image, cmap='gray')\n",
    "\n",
    "    # Plot der approximierten Kanten als Linien mit blauer Farbe\n",
    "    for i in range(0, len(edge_points)):\n",
    "        edge_approx = edge_points[i]\n",
    "        feed_point = feed_points[i]\n",
    "        \n",
    "        # Plot G1\n",
    "        segment_ended = False\n",
    "        g1_segments = []\n",
    "        g1_segment_points = []\n",
    "        for j, value in enumerate(feed_point):\n",
    "            if segment_ended:\n",
    "                g1_segment_points.append(edge_approx[j-1])\n",
    "                segment_ended = False\n",
    "                \n",
    "            if value:\n",
    "                g1_segment_points.append(edge_approx[j])\n",
    "            elif len(g1_segment_points) != 0:\n",
    "                g1_segments.append(np.array(g1_segment_points))\n",
    "                g1_segment_points = []\n",
    "                segment_ended = True\n",
    "        if len(g1_segment_points) != 0:\n",
    "            g1_segments.append(np.array(g1_segment_points))\n",
    "\n",
    "        for g1_points in g1_segments:\n",
    "            # Plot G1 Linien\n",
    "            g1_x_approx = g1_points[:, :, 0].flatten()\n",
    "            g1_y_approx = g1_points[:, :, 1].flatten()\n",
    "            plt.plot(g1_x_approx, g1_y_approx, color='red')\n",
    "\n",
    "            # Plot der Eckpunkte als rote Punkte\n",
    "            plt.plot(g1_x_approx, g1_y_approx, 'ro')\n",
    "\n",
    "        # Plot G0\n",
    "        g0_points = np.array([np.array([edge_approx[j-1], edge_approx[j]]) for j in [i for i, value in enumerate(feed_point) if value == False]])\n",
    "        if g0_points.size != 0:\n",
    "            for g0_point in g0_points:\n",
    "                # Plot G0 Linien\n",
    "                g0_x_approx = [g0_point[0][0][0], g0_point[1][0][0]]\n",
    "                g0_y_approx = [g0_point[0][0][1], g0_point[1][0][1]]\n",
    "                plt.plot(g0_x_approx, g0_y_approx, color='green', linestyle='--')\n",
    "\n",
    "                # Plot der Eckpunkte als rote Punkte\n",
    "                plt.plot(g0_point[1][0][0], g0_point[1][0][1], 'o', color='green', markersize=4)\n",
    "\n",
    "    plt.title('Edge Approximation')\n",
    "\n",
    "    # Anpassung der Achsenskalierung\n",
    "    plt.axis('scaled')\n",
    "\n",
    "    # Anzeigen des Diagramms\n",
    "    plt.show()"
   ]
  },
  {
   "cell_type": "code",
   "execution_count": 4,
   "metadata": {},
   "outputs": [],
   "source": [
    "def checkIfSegmentNotInUsedContours(segment_contour_points, used_contour_points):\n",
    "    is_not_in = False\n",
    "    for point in segment_contour_points:\n",
    "        if not any(np.all(point == p) for p in used_contour_points):\n",
    "            is_not_in = True\n",
    "            break\n",
    "    return is_not_in\n",
    "\n",
    "def getContourApproximation2(edge_image, epsilon):\n",
    "    contours, _ = cv2.findContours(edge_image, cv2.RETR_EXTERNAL, cv2.CHAIN_APPROX_NONE)\n",
    "\n",
    "    feed_points = []\n",
    "    contour_segments = []\n",
    "    k = 0\n",
    "    for contour in contours:\n",
    "        print(f'{k} \\ {len(contours)}')\n",
    "        k += 1\n",
    "\n",
    "        approx = cv2.approxPolyDP(contour, epsilon, True)\n",
    "\n",
    "        # print('contour', ','.join([str(k) for k in contour]), '\\n')\n",
    "        # print('approx', ','.join([str(k) for k in approx]), '\\n')\n",
    "\n",
    "        rescent_index = 0\n",
    "        \n",
    "        used_contour_points = None\n",
    "\n",
    "        feed_point = []\n",
    "        segment = []\n",
    "        for i in range(len(approx)):\n",
    "            if i == 0:\n",
    "                start_point = approx[i][0]\n",
    "                segment.append(np.array([start_point]))\n",
    "                feed_point.append(True)\n",
    "            end_point = approx[(i+1) % len(approx)][0]\n",
    "\n",
    "            # Find Index\n",
    "            indexes = np.where(np.all(contour == end_point, axis=(1, 2)))\n",
    "            if indexes[0].size == 0:\n",
    "                break\n",
    "\n",
    "            # Get Index Position \n",
    "            amt_end_point_u_c = len(np.where(np.all(used_contour_points == end_point, axis=(1, 2)))[0]) if i != 0 else 0\n",
    "            index = 0\n",
    "            if amt_end_point_u_c <= indexes[0].size - 1:\n",
    "                index = indexes[0][amt_end_point_u_c] + 1 if amt_end_point_u_c != len(contour) -1 else indexes[0][amt_end_point_u_c]\n",
    "            else:\n",
    "                index = indexes[0].max() + 1 if indexes[0].max() != len(contour) -1 else indexes[0].max()\n",
    "\n",
    "            # Die Konturpunkte des Segments\n",
    "            segment_contour_points = None\n",
    "            if rescent_index == index:\n",
    "                segment_contour_points = np.array([contour[index]])\n",
    "            elif i == len(approx) - 1:\n",
    "                segment_contour_points = np.concatenate((contour[rescent_index:], contour[:index]))\n",
    "            elif rescent_index < index:\n",
    "                segment_contour_points = contour[rescent_index: index]\n",
    "            elif rescent_index > index:\n",
    "                segment_contour_points = contour[index: rescent_index]\n",
    "\n",
    "            # print('segment', ','.join([str(k) for k in segment_contour_points]))\n",
    "            # print('used_contour_points', ','.join([str(k) for k in used_contour_points]) if i != 0 else used_contour_points)\n",
    "            # print('recentIndex', rescent_index, 'index', index, 'end_point', end_point)\n",
    "            # print('is in', checkIfSegmentNotInUsedContours(segment_contour_points, used_contour_points) if i != 0 else True)\n",
    "            \n",
    "            # Check if Contour Points are already used\n",
    "            if checkIfSegmentNotInUsedContours(segment_contour_points, used_contour_points) if i != 0 else True:\n",
    "                if i == 0:\n",
    "                    used_contour_points = contour[rescent_index: index]\n",
    "                else:\n",
    "                    used_contour_points = np.concatenate((used_contour_points, contour[rescent_index: index]), axis=0)\n",
    "                feed_point.append(True)\n",
    "            else:\n",
    "                # print('!!!!!!!! END !!!!!!!!!!')\n",
    "                # break\n",
    "                feed_point.append(False)\n",
    "                # continue\n",
    "\n",
    "            rescent_index = index + 1\n",
    "            segment.append(np.array([end_point]))\n",
    "\n",
    "        contour_segments.append(np.array(segment))\n",
    "        feed_points.append(feed_point)\n",
    "\n",
    "    return contour_segments, feed_points"
   ]
  },
  {
   "attachments": {},
   "cell_type": "markdown",
   "metadata": {},
   "source": [
    "## 1. Tests\n",
    "---"
   ]
  },
  {
   "cell_type": "code",
   "execution_count": 5,
   "metadata": {},
   "outputs": [
    {
     "name": "stdout",
     "output_type": "stream",
     "text": [
      "0 \\ 1\n",
      "edge_points [[0 0]],[[0 9]],[[9 9]],[[9 0]],[[0 0]]\n",
      "feed_points [[True, True, True, True, True]]\n"
     ]
    },
    {
     "data": {
      "image/png": "[encoded data removed]",
      "text/plain": [
       "<Figure size 640x480 with 1 Axes>"
      ]
     },
     "metadata": {},
     "output_type": "display_data"
    }
   ],
   "source": [
    "edge_image = np.array([\n",
    "       [255, 255, 255, 255, 255, 255, 255, 255, 255, 255],\n",
    "       [255,   0,   0,   0,   0,   0,   0,   0,   0, 255],\n",
    "       [255,   0,   0,   0,   0,   0,   0,   0,   0, 255],\n",
    "       [255,   0,   0,   0,   0,   0,   0,   0,   0, 255],\n",
    "       [255,   0,   0,   0,   0,   0,   0,   0,   0, 255],\n",
    "       [255,   0,   0,   0,   0,   0,   0,   0,   0, 255],\n",
    "       [255,   0,   0,   0,   0,   0,   0,   0,   0, 255],\n",
    "       [255,   0,   0,   0,   0,   0,   0,   0,   0, 255],\n",
    "       [255,   0,   0,   0,   0,   0,   0,   0,   0, 255],\n",
    "       [255, 255, 255, 255, 255, 255, 255, 255, 255, 255]]).astype(np.uint8)\n",
    "\n",
    "\n",
    "edge_points, feed_points = getContourApproximation2(edge_image, 0)\n",
    "print('edge_points', ','.join([str(k) for k in edge_points[0]]))\n",
    "print('feed_points', feed_points)\n",
    "plot_edge_approx2(edge_image, edge_points, feed_points)"
   ]
  },
  {
   "cell_type": "code",
   "execution_count": 6,
   "metadata": {},
   "outputs": [
    {
     "name": "stdout",
     "output_type": "stream",
     "text": [
      "0 \\ 1\n",
      "edge_points [[0 0]],[[0 9]],[[9 9]],[[9 0]],[[4 5]],[[0 0]]\n"
     ]
    },
    {
     "data": {
      "image/png": "[encoded data removed]",
      "text/plain": [
       "<Figure size 640x480 with 1 Axes>"
      ]
     },
     "metadata": {},
     "output_type": "display_data"
    }
   ],
   "source": [
    "edge_image = np.array([\n",
    "       [255,   0,   0,   0,   0,   0,   0,   0,   0, 255],\n",
    "       [255, 255,   0,   0,   0,   0,   0,   0, 255, 255],\n",
    "       [255,   0, 255,   0,   0,   0,   0, 255,   0, 255],\n",
    "       [255,   0, 255,   0,   0,   0, 255,   0,   0, 255],\n",
    "       [255,   0,   0, 255,   0, 255,   0,   0,   0, 255],\n",
    "       [255,   0,   0,   0, 255,   0,   0,   0,   0, 255],\n",
    "       [255,   0,   0,   0,   0,   0,   0,   0,   0, 255],\n",
    "       [255,   0,   0,   0,   0,   0,   0,   0,   0, 255],\n",
    "       [255,   0,   0,   0,   0,   0,   0,   0,   0, 255],\n",
    "       [255, 255, 255, 255, 255, 255, 255, 255, 255, 255]]).astype(np.uint8)\n",
    "\n",
    "\n",
    "edge_points, feed_points = getContourApproximation2(edge_image, 3)\n",
    "print('edge_points', ','.join([str(k) for k in edge_points[0]]))\n",
    "plot_edge_approx2(edge_image, edge_points, feed_points)"
   ]
  },
  {
   "cell_type": "code",
   "execution_count": 7,
   "metadata": {},
   "outputs": [
    {
     "name": "stdout",
     "output_type": "stream",
     "text": [
      "0 \\ 1\n",
      "edge_points [[0 0]],[[0 9]],[[9 9]],[[9 0]],[[9 1]],[[8 2]],[[7 2]],[[4 5]],[[0 1]],[[0 0]]\n",
      "feed_points [[True, True, True, True, True, True, True, True, True, False]]\n"
     ]
    },
    {
     "data": {
      "image/png": "[encoded data removed]",
      "text/plain": [
       "<Figure size 640x480 with 1 Axes>"
      ]
     },
     "metadata": {},
     "output_type": "display_data"
    }
   ],
   "source": [
    "edge_image = np.array([\n",
    "       [255,   0,   0,   0,   0,   0,   0,   0,   0, 255],\n",
    "       [255,   0,   0,   0,   0,   0,   0,   0,   0, 255],\n",
    "       [255, 255,   0,   0,   0,   0,   0, 255, 255, 255],\n",
    "       [255,   0, 255,   0,   0,   0, 255,   0,   0, 255],\n",
    "       [255,   0,   0, 255,   0, 255,   0,   0,   0, 255],\n",
    "       [255,   0,   0,   0, 255,   0,   0,   0,   0, 255],\n",
    "       [255,   0,   0,   0,   0,   0,   0,   0,   0, 255],\n",
    "       [255,   0,   0,   0,   0,   0,   0,   0,   0, 255],\n",
    "       [255,   0,   0,   0,   0,   0,   0,   0,   0, 255],\n",
    "       [255, 255, 255, 255, 255, 255, 255, 255, 255, 255]]).astype(np.uint8)\n",
    "\n",
    "\n",
    "edge_points, feed_points = getContourApproximation2(edge_image, 0)\n",
    "print('edge_points', ','.join([str(k) for k in edge_points[0]]))\n",
    "print('feed_points', feed_points)\n",
    "plot_edge_approx2(edge_image, edge_points, feed_points)"
   ]
  },
  {
   "cell_type": "code",
   "execution_count": 8,
   "metadata": {},
   "outputs": [
    {
     "name": "stdout",
     "output_type": "stream",
     "text": [
      "0 \\ 1\n",
      "edge_points [[0 0]],[[0 9]],[[9 9]],[[9 0]],[[4 5]],[[0 1]],[[0 0]]\n",
      "feed_points [[True, True, True, True, True, True, False]]\n"
     ]
    },
    {
     "data": {
      "image/png": "[encoded data removed]",
      "text/plain": [
       "<Figure size 640x480 with 1 Axes>"
      ]
     },
     "metadata": {},
     "output_type": "display_data"
    }
   ],
   "source": [
    "edge_image = np.array([\n",
    "       [255,   0,   0,   0,   0,   0,   0,   0,   0, 255],\n",
    "       [255,   0,   0,   0,   0,   0,   0,   0, 255, 255],\n",
    "       [255, 255,   0,   0,   0,   0,   0, 255,   0, 255],\n",
    "       [255,   0, 255,   0,   0,   0, 255,   0,   0, 255],\n",
    "       [255,   0,   0, 255,   0, 255,   0,   0,   0, 255],\n",
    "       [255,   0,   0,   0, 255,   0,   0,   0,   0, 255],\n",
    "       [255,   0,   0,   0,   0,   0,   0,   0,   0, 255],\n",
    "       [255,   0,   0,   0,   0,   0,   0,   0,   0, 255],\n",
    "       [255,   0,   0,   0,   0,   0,   0,   0,   0, 255],\n",
    "       [255, 255, 255, 255, 255, 255, 255, 255, 255, 255]]).astype(np.uint8)\n",
    "\n",
    "\n",
    "edge_points, feed_points = getContourApproximation2(edge_image, 0)\n",
    "print('edge_points', ','.join([str(k) for k in edge_points[0]]))\n",
    "print('feed_points', feed_points)\n",
    "plot_edge_approx2(edge_image, edge_points, feed_points)"
   ]
  },
  {
   "cell_type": "code",
   "execution_count": 9,
   "metadata": {},
   "outputs": [
    {
     "name": "stdout",
     "output_type": "stream",
     "text": [
      "0 \\ 1\n",
      "edge_points [[0 0]],[[0 9]],[[9 9]],[[9 0]],[[9 4]],[[8 5]],[[1 5]],[[0 4]],[[0 0]]\n",
      "feed_points [[True, True, True, True, False, True, True, False, False]]\n"
     ]
    },
    {
     "data": {
      "image/png": "[encoded data removed]",
      "text/plain": [
       "<Figure size 640x480 with 1 Axes>"
      ]
     },
     "metadata": {},
     "output_type": "display_data"
    }
   ],
   "source": [
    "edge_image = np.array([\n",
    "       [255,   0,   0,   0,   0,   0,   0,   0,   0, 255],\n",
    "       [255,   0,   0,   0,   0,   0,   0,   0,   0, 255],\n",
    "       [255,   0,   0,   0,   0,   0,   0,   0,   0, 255],\n",
    "       [255,   0,   0,   0,   0,   0,   0,   0,   0, 255],\n",
    "       [255,   0,   0,   0,   0,   0,   0,   0,   0, 255],\n",
    "       [255, 255, 255, 255, 255, 255, 255, 255, 255, 255],\n",
    "       [255,   0,   0,   0,   0,   0,   0,   0,   0, 255],\n",
    "       [255,   0,   0,   0,   0,   0,   0,   0,   0, 255],\n",
    "       [255,   0,   0,   0,   0,   0,   0,   0,   0, 255],\n",
    "       [255, 255, 255, 255, 255, 255, 255, 255, 255, 255]]).astype(np.uint8)\n",
    "\n",
    "\n",
    "edge_points, feed_points = getContourApproximation2(edge_image, 0)\n",
    "print('edge_points', ','.join([str(k) for k in edge_points[0]]))\n",
    "print('feed_points', feed_points)\n",
    "plot_edge_approx2(edge_image, edge_points, feed_points)"
   ]
  },
  {
   "cell_type": "code",
   "execution_count": 10,
   "metadata": {},
   "outputs": [
    {
     "name": "stdout",
     "output_type": "stream",
     "text": [
      "0 \\ 1\n",
      "edge_points [[1 0]],[[1 3]],[[2 4]],[[1 5]],[[2 6]],[[1 7]],[[2 8]],[[9 8]],[[9 0]],[[9 3]],[[8 4]],[[2 4]],[[1 3]],[[1 0]]\n",
      "feed_points [[True, True, True, True, True, True, True, True, True, False, True, True, True, False]]\n"
     ]
    },
    {
     "data": {
      "image/png": "[encoded data removed]",
      "text/plain": [
       "<Figure size 640x480 with 1 Axes>"
      ]
     },
     "metadata": {},
     "output_type": "display_data"
    }
   ],
   "source": [
    "edge_image = np.array([\n",
    "       [  0, 255,   0,   0,   0,   0,   0,   0,   0, 255,   0],\n",
    "       [  0, 255,   0,   0,   0,   0,   0,   0,   0, 255,   0],\n",
    "       [  0, 255,   0,   0,   0,   0,   0,   0,   0, 255,   0],\n",
    "       [  0, 255,   0,   0,   0,   0,   0,   0,   0, 255,   0],\n",
    "       [  0,   0, 255, 255, 255, 255, 255, 255, 255, 255,   0],\n",
    "       [  0, 255,   0,   0,   0,   0,   0,   0,   0, 255,   0],\n",
    "       [  0,   0, 255, 255, 255, 255, 255, 255, 255, 255,   0],\n",
    "       [  0, 255,   0,   0,   0,   0,   0,   0,   0, 255,   0],\n",
    "       [  0,   0, 255, 255, 255, 255, 255, 255, 255, 255,   0],\n",
    "       [  0,   0,   0,   0,   0,   0,   0,   0,   0,   0,   0]]).astype(np.uint8)\n",
    "\n",
    "\n",
    "edge_points, feed_points = getContourApproximation2(edge_image, 0)\n",
    "print('edge_points', ','.join([str(k) for k in edge_points[0]]))\n",
    "print('feed_points', feed_points)\n",
    "plot_edge_approx2(edge_image, edge_points, feed_points)"
   ]
  },
  {
   "cell_type": "code",
   "execution_count": 11,
   "metadata": {},
   "outputs": [
    {
     "name": "stdout",
     "output_type": "stream",
     "text": [
      "0 \\ 1\n",
      "edge_points [[0 0]],[[9 9]],[[0 0]]\n",
      "feed_points [[True, True, True]]\n"
     ]
    },
    {
     "data": {
      "image/png": "[encoded data removed]",
      "text/plain": [
       "<Figure size 640x480 with 1 Axes>"
      ]
     },
     "metadata": {},
     "output_type": "display_data"
    }
   ],
   "source": [
    "# Palidrom Problem\n",
    "edge_image = np.array([\n",
    "       [255,   0,   0,   0,   0,   0,   0,   0,   0, 255],\n",
    "       [255,   0,   0,   0,   0,   0,   0,   0, 255, 255],\n",
    "       [255, 255,   0,   0,   0,   0,   0, 255,   0, 255],\n",
    "       [255,   0, 255,   0,   0,   0, 255,   0,   0, 255],\n",
    "       [255,   0,   0, 255,   0, 255,   0,   0,   0, 255],\n",
    "       [255,   0,   0,   0, 255,   0,   0,   0,   0, 255],\n",
    "       [255,   0,   0,   0,   0,   0,   0,   0,   0, 255],\n",
    "       [255,   0,   0,   0,   0,   0,   0,   0,   0, 255],\n",
    "       [255,   0,   0,   0,   0,   0,   0,   0,   0, 255],\n",
    "       [255, 255, 255, 255, 255, 255, 255, 255, 255, 255]]).astype(np.uint8)\n",
    "\n",
    "\n",
    "edge_points, feed_points = getContourApproximation2(edge_image, 10)\n",
    "print('edge_points', ','.join([str(k) for k in edge_points[0]]))\n",
    "print('feed_points', feed_points)\n",
    "plot_edge_approx2(edge_image, edge_points, feed_points)"
   ]
  },
  {
   "cell_type": "code",
   "execution_count": 12,
   "metadata": {},
   "outputs": [],
   "source": [
    "import base64\n",
    "preloaded_images = None\n",
    "with open(\"../../preloaded_images.txt\", \"r\") as file:\n",
    "    preloaded_images = eval(file.read())\n",
    "selected_diff_image = preloaded_images[2]\n",
    "\n",
    "# Convert image\n",
    "decoded_image = base64.b64decode(selected_diff_image.split(',')[1])\n",
    "image_array = np.frombuffer(decoded_image, dtype=np.uint8)\n",
    "origial = cv2.imdecode(image_array, cv2.IMREAD_COLOR)\n",
    "\n",
    "# Graustufenbild\n",
    "gray = cv2.cvtColor(origial, cv2.COLOR_BGR2GRAY)\n",
    "\n",
    "edge_image = cv2.Canny(gray, 50, 150)"
   ]
  },
  {
   "cell_type": "code",
   "execution_count": 13,
   "metadata": {},
   "outputs": [
    {
     "data": {
      "text/plain": [
       "array([[0, 0, 0, ..., 0, 0, 0],\n",
       "       [0, 0, 0, ..., 0, 0, 0],\n",
       "       [0, 0, 0, ..., 0, 0, 0],\n",
       "       ...,\n",
       "       [0, 0, 0, ..., 0, 0, 0],\n",
       "       [0, 0, 0, ..., 0, 0, 0],\n",
       "       [0, 0, 0, ..., 0, 0, 0]], dtype=uint8)"
      ]
     },
     "execution_count": 13,
     "metadata": {},
     "output_type": "execute_result"
    }
   ],
   "source": [
    "edge_image"
   ]
  },
  {
   "cell_type": "code",
   "execution_count": 14,
   "metadata": {},
   "outputs": [
    {
     "name": "stdout",
     "output_type": "stream",
     "text": [
      "0 \\ 1650\n",
      "1 \\ 1650\n",
      "2 \\ 1650\n",
      "3 \\ 1650\n",
      "4 \\ 1650\n",
      "5 \\ 1650\n",
      "6 \\ 1650\n",
      "7 \\ 1650\n",
      "8 \\ 1650\n",
      "9 \\ 1650\n",
      "10 \\ 1650\n",
      "11 \\ 1650\n",
      "12 \\ 1650\n",
      "13 \\ 1650\n",
      "14 \\ 1650\n",
      "15 \\ 1650\n",
      "16 \\ 1650\n",
      "17 \\ 1650\n",
      "18 \\ 1650\n",
      "19 \\ 1650\n",
      "20 \\ 1650\n",
      "21 \\ 1650\n",
      "22 \\ 1650\n",
      "23 \\ 1650\n",
      "24 \\ 1650\n",
      "25 \\ 1650\n",
      "26 \\ 1650\n",
      "27 \\ 1650\n",
      "28 \\ 1650\n",
      "29 \\ 1650\n",
      "30 \\ 1650\n",
      "31 \\ 1650\n",
      "32 \\ 1650\n",
      "33 \\ 1650\n",
      "34 \\ 1650\n",
      "35 \\ 1650\n",
      "36 \\ 1650\n",
      "37 \\ 1650\n",
      "38 \\ 1650\n",
      "39 \\ 1650\n",
      "40 \\ 1650\n",
      "41 \\ 1650\n",
      "42 \\ 1650\n",
      "43 \\ 1650\n",
      "44 \\ 1650\n",
      "45 \\ 1650\n",
      "46 \\ 1650\n",
      "47 \\ 1650\n",
      "48 \\ 1650\n",
      "49 \\ 1650\n",
      "50 \\ 1650\n",
      "51 \\ 1650\n",
      "52 \\ 1650\n",
      "53 \\ 1650\n",
      "54 \\ 1650\n",
      "55 \\ 1650\n",
      "56 \\ 1650\n",
      "57 \\ 1650\n",
      "58 \\ 1650\n",
      "59 \\ 1650\n",
      "60 \\ 1650\n",
      "61 \\ 1650\n",
      "62 \\ 1650\n",
      "63 \\ 1650\n",
      "64 \\ 1650\n",
      "65 \\ 1650\n",
      "66 \\ 1650\n",
      "67 \\ 1650\n",
      "68 \\ 1650\n",
      "69 \\ 1650\n",
      "70 \\ 1650\n",
      "71 \\ 1650\n",
      "72 \\ 1650\n",
      "73 \\ 1650\n",
      "74 \\ 1650\n",
      "75 \\ 1650\n",
      "76 \\ 1650\n",
      "77 \\ 1650\n",
      "78 \\ 1650\n",
      "79 \\ 1650\n",
      "80 \\ 1650\n",
      "81 \\ 1650\n",
      "82 \\ 1650\n",
      "83 \\ 1650\n",
      "84 \\ 1650\n",
      "85 \\ 1650\n",
      "86 \\ 1650\n",
      "87 \\ 1650\n",
      "88 \\ 1650\n",
      "89 \\ 1650\n",
      "90 \\ 1650\n",
      "91 \\ 1650\n",
      "92 \\ 1650\n",
      "93 \\ 1650\n",
      "94 \\ 1650\n",
      "95 \\ 1650\n",
      "96 \\ 1650\n",
      "97 \\ 1650\n",
      "98 \\ 1650\n",
      "99 \\ 1650\n",
      "100 \\ 1650\n",
      "101 \\ 1650\n",
      "102 \\ 1650\n",
      "103 \\ 1650\n",
      "104 \\ 1650\n",
      "105 \\ 1650\n",
      "106 \\ 1650\n",
      "107 \\ 1650\n",
      "108 \\ 1650\n",
      "109 \\ 1650\n",
      "110 \\ 1650\n",
      "111 \\ 1650\n",
      "112 \\ 1650\n",
      "113 \\ 1650\n",
      "114 \\ 1650\n",
      "115 \\ 1650\n",
      "116 \\ 1650\n",
      "117 \\ 1650\n",
      "118 \\ 1650\n",
      "119 \\ 1650\n",
      "120 \\ 1650\n",
      "121 \\ 1650\n",
      "122 \\ 1650\n",
      "123 \\ 1650\n",
      "124 \\ 1650\n",
      "125 \\ 1650\n",
      "126 \\ 1650\n",
      "127 \\ 1650\n",
      "128 \\ 1650\n",
      "129 \\ 1650\n",
      "130 \\ 1650\n",
      "131 \\ 1650\n",
      "132 \\ 1650\n",
      "133 \\ 1650\n",
      "134 \\ 1650\n",
      "135 \\ 1650\n",
      "136 \\ 1650\n",
      "137 \\ 1650\n",
      "138 \\ 1650\n",
      "139 \\ 1650\n",
      "140 \\ 1650\n",
      "141 \\ 1650\n",
      "142 \\ 1650\n",
      "143 \\ 1650\n",
      "144 \\ 1650\n",
      "145 \\ 1650\n",
      "146 \\ 1650\n",
      "147 \\ 1650\n",
      "148 \\ 1650\n",
      "149 \\ 1650\n",
      "150 \\ 1650\n",
      "151 \\ 1650\n",
      "152 \\ 1650\n",
      "153 \\ 1650\n",
      "154 \\ 1650\n",
      "155 \\ 1650\n",
      "156 \\ 1650\n",
      "157 \\ 1650\n",
      "158 \\ 1650\n",
      "159 \\ 1650\n",
      "160 \\ 1650\n",
      "161 \\ 1650\n",
      "162 \\ 1650\n",
      "163 \\ 1650\n",
      "164 \\ 1650\n",
      "165 \\ 1650\n",
      "166 \\ 1650\n",
      "167 \\ 1650\n",
      "168 \\ 1650\n",
      "169 \\ 1650\n",
      "170 \\ 1650\n",
      "171 \\ 1650\n",
      "172 \\ 1650\n",
      "173 \\ 1650\n",
      "174 \\ 1650\n",
      "175 \\ 1650\n",
      "176 \\ 1650\n",
      "177 \\ 1650\n",
      "178 \\ 1650\n",
      "179 \\ 1650\n",
      "180 \\ 1650\n",
      "181 \\ 1650\n",
      "182 \\ 1650\n",
      "183 \\ 1650\n",
      "184 \\ 1650\n",
      "185 \\ 1650\n",
      "186 \\ 1650\n",
      "187 \\ 1650\n",
      "188 \\ 1650\n",
      "189 \\ 1650\n",
      "190 \\ 1650\n",
      "191 \\ 1650\n",
      "192 \\ 1650\n",
      "193 \\ 1650\n",
      "194 \\ 1650\n",
      "195 \\ 1650\n",
      "196 \\ 1650\n",
      "197 \\ 1650\n",
      "198 \\ 1650\n",
      "199 \\ 1650\n",
      "200 \\ 1650\n",
      "201 \\ 1650\n",
      "202 \\ 1650\n",
      "203 \\ 1650\n",
      "204 \\ 1650\n",
      "205 \\ 1650\n",
      "206 \\ 1650\n",
      "207 \\ 1650\n",
      "208 \\ 1650\n",
      "209 \\ 1650\n",
      "210 \\ 1650\n",
      "211 \\ 1650\n",
      "212 \\ 1650\n",
      "213 \\ 1650\n",
      "214 \\ 1650\n",
      "215 \\ 1650\n",
      "216 \\ 1650\n",
      "217 \\ 1650\n",
      "218 \\ 1650\n",
      "219 \\ 1650\n",
      "220 \\ 1650\n",
      "221 \\ 1650\n",
      "222 \\ 1650\n",
      "223 \\ 1650\n",
      "224 \\ 1650\n",
      "225 \\ 1650\n",
      "226 \\ 1650\n",
      "227 \\ 1650\n",
      "228 \\ 1650\n",
      "229 \\ 1650\n",
      "230 \\ 1650\n",
      "231 \\ 1650\n",
      "232 \\ 1650\n"
     ]
    },
    {
     "ename": "KeyboardInterrupt",
     "evalue": "",
     "output_type": "error",
     "traceback": [
      "\u001b[0;31m---------------------------------------------------------------------------\u001b[0m",
      "\u001b[0;31mKeyboardInterrupt\u001b[0m                         Traceback (most recent call last)",
      "Cell \u001b[0;32mIn[14], line 1\u001b[0m\n\u001b[0;32m----> 1\u001b[0m edge_points, feed_points \u001b[39m=\u001b[39m getContourApproximation2(edge_image, \u001b[39m5\u001b[39;49m)\n",
      "Cell \u001b[0;32mIn[4], line 67\u001b[0m, in \u001b[0;36mgetContourApproximation2\u001b[0;34m(edge_image, epsilon)\u001b[0m\n\u001b[1;32m     59\u001b[0m     segment_contour_points \u001b[39m=\u001b[39m contour[index: rescent_index]\n\u001b[1;32m     61\u001b[0m \u001b[39m# print('segment', ','.join([str(k) for k in segment_contour_points]))\u001b[39;00m\n\u001b[1;32m     62\u001b[0m \u001b[39m# print('used_contour_points', ','.join([str(k) for k in used_contour_points]) if i != 0 else used_contour_points)\u001b[39;00m\n\u001b[1;32m     63\u001b[0m \u001b[39m# print('recentIndex', rescent_index, 'index', index, 'end_point', end_point)\u001b[39;00m\n\u001b[1;32m     64\u001b[0m \u001b[39m# print('is in', checkIfSegmentNotInUsedContours(segment_contour_points, used_contour_points) if i != 0 else True)\u001b[39;00m\n\u001b[1;32m     65\u001b[0m \n\u001b[1;32m     66\u001b[0m \u001b[39m# Check if Contour Points are already used\u001b[39;00m\n\u001b[0;32m---> 67\u001b[0m \u001b[39mif\u001b[39;00m checkIfSegmentNotInUsedContours(segment_contour_points, used_contour_points) \u001b[39mif\u001b[39;00m i \u001b[39m!=\u001b[39m \u001b[39m0\u001b[39m \u001b[39melse\u001b[39;00m \u001b[39mTrue\u001b[39;00m:\n\u001b[1;32m     68\u001b[0m     \u001b[39mif\u001b[39;00m i \u001b[39m==\u001b[39m \u001b[39m0\u001b[39m:\n\u001b[1;32m     69\u001b[0m         used_contour_points \u001b[39m=\u001b[39m contour[rescent_index: index]\n",
      "Cell \u001b[0;32mIn[4], line 4\u001b[0m, in \u001b[0;36mcheckIfSegmentNotInUsedContours\u001b[0;34m(segment_contour_points, used_contour_points)\u001b[0m\n\u001b[1;32m      2\u001b[0m is_not_in \u001b[39m=\u001b[39m \u001b[39mFalse\u001b[39;00m\n\u001b[1;32m      3\u001b[0m \u001b[39mfor\u001b[39;00m point \u001b[39min\u001b[39;00m segment_contour_points:\n\u001b[0;32m----> 4\u001b[0m     \u001b[39mif\u001b[39;00m \u001b[39mnot\u001b[39;00m \u001b[39many\u001b[39m(np\u001b[39m.\u001b[39mall(point \u001b[39m==\u001b[39m p) \u001b[39mfor\u001b[39;00m p \u001b[39min\u001b[39;00m used_contour_points):\n\u001b[1;32m      5\u001b[0m         is_not_in \u001b[39m=\u001b[39m \u001b[39mTrue\u001b[39;00m\n\u001b[1;32m      6\u001b[0m         \u001b[39mbreak\u001b[39;00m\n",
      "Cell \u001b[0;32mIn[4], line 4\u001b[0m, in \u001b[0;36m<genexpr>\u001b[0;34m(.0)\u001b[0m\n\u001b[1;32m      2\u001b[0m is_not_in \u001b[39m=\u001b[39m \u001b[39mFalse\u001b[39;00m\n\u001b[1;32m      3\u001b[0m \u001b[39mfor\u001b[39;00m point \u001b[39min\u001b[39;00m segment_contour_points:\n\u001b[0;32m----> 4\u001b[0m     \u001b[39mif\u001b[39;00m \u001b[39mnot\u001b[39;00m \u001b[39many\u001b[39m(np\u001b[39m.\u001b[39;49mall(point \u001b[39m==\u001b[39;49m p) \u001b[39mfor\u001b[39;00m p \u001b[39min\u001b[39;00m used_contour_points):\n\u001b[1;32m      5\u001b[0m         is_not_in \u001b[39m=\u001b[39m \u001b[39mTrue\u001b[39;00m\n\u001b[1;32m      6\u001b[0m         \u001b[39mbreak\u001b[39;00m\n",
      "File \u001b[0;32m<__array_function__ internals>:200\u001b[0m, in \u001b[0;36mall\u001b[0;34m(*args, **kwargs)\u001b[0m\n",
      "File \u001b[0;32m/usr/local/Caskroom/mambaforge/base/envs/recsys/lib/python3.11/site-packages/numpy/core/fromnumeric.py:2515\u001b[0m, in \u001b[0;36mall\u001b[0;34m(a, axis, out, keepdims, where)\u001b[0m\n\u001b[1;32m   2432\u001b[0m \u001b[39m@array_function_dispatch\u001b[39m(_all_dispatcher)\n\u001b[1;32m   2433\u001b[0m \u001b[39mdef\u001b[39;00m \u001b[39mall\u001b[39m(a, axis\u001b[39m=\u001b[39m\u001b[39mNone\u001b[39;00m, out\u001b[39m=\u001b[39m\u001b[39mNone\u001b[39;00m, keepdims\u001b[39m=\u001b[39mnp\u001b[39m.\u001b[39m_NoValue, \u001b[39m*\u001b[39m, where\u001b[39m=\u001b[39mnp\u001b[39m.\u001b[39m_NoValue):\n\u001b[1;32m   2434\u001b[0m \u001b[39m    \u001b[39m\u001b[39m\"\"\"\u001b[39;00m\n\u001b[1;32m   2435\u001b[0m \u001b[39m    Test whether all array elements along a given axis evaluate to True.\u001b[39;00m\n\u001b[1;32m   2436\u001b[0m \n\u001b[0;32m   (...)\u001b[0m\n\u001b[1;32m   2513\u001b[0m \n\u001b[1;32m   2514\u001b[0m \u001b[39m    \"\"\"\u001b[39;00m\n\u001b[0;32m-> 2515\u001b[0m     \u001b[39mreturn\u001b[39;00m _wrapreduction(a, np\u001b[39m.\u001b[39;49mlogical_and, \u001b[39m'\u001b[39;49m\u001b[39mall\u001b[39;49m\u001b[39m'\u001b[39;49m, axis, \u001b[39mNone\u001b[39;49;00m, out,\n\u001b[1;32m   2516\u001b[0m                           keepdims\u001b[39m=\u001b[39;49mkeepdims, where\u001b[39m=\u001b[39;49mwhere)\n",
      "File \u001b[0;32m/usr/local/Caskroom/mambaforge/base/envs/recsys/lib/python3.11/site-packages/numpy/core/fromnumeric.py:86\u001b[0m, in \u001b[0;36m_wrapreduction\u001b[0;34m(obj, ufunc, method, axis, dtype, out, **kwargs)\u001b[0m\n\u001b[1;32m     83\u001b[0m         \u001b[39melse\u001b[39;00m:\n\u001b[1;32m     84\u001b[0m             \u001b[39mreturn\u001b[39;00m reduction(axis\u001b[39m=\u001b[39maxis, out\u001b[39m=\u001b[39mout, \u001b[39m*\u001b[39m\u001b[39m*\u001b[39mpasskwargs)\n\u001b[0;32m---> 86\u001b[0m \u001b[39mreturn\u001b[39;00m ufunc\u001b[39m.\u001b[39;49mreduce(obj, axis, dtype, out, \u001b[39m*\u001b[39;49m\u001b[39m*\u001b[39;49mpasskwargs)\n",
      "\u001b[0;31mKeyboardInterrupt\u001b[0m: "
     ]
    }
   ],
   "source": [
    "edge_points, feed_points = getContourApproximation2(edge_image, 5)"
   ]
  },
  {
   "cell_type": "code",
   "execution_count": null,
   "metadata": {},
   "outputs": [],
   "source": [
    "print('edge_points', ','.join([str(k) for k in edge_points[0]]))\n",
    "print('feed_points', feed_points)\n",
    "plot_edge_approx2(edge_image, edge_points, feed_points)"
   ]
  }
 ],
 "metadata": {
  "kernelspec": {
   "display_name": "recsys",
   "language": "python",
   "name": "python3"
  },
  "language_info": {
   "codemirror_mode": {
    "name": "ipython",
    "version": 3
   },
   "file_extension": ".py",
   "mimetype": "text/x-python",
   "name": "python",
   "nbconvert_exporter": "python",
   "pygments_lexer": "ipython3",
   "version": "3.11.0"
  },
  "orig_nbformat": 4
 },
 "nbformat": 4,
 "nbformat_minor": 2
}
